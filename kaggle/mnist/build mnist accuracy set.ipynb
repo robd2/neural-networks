{
 "cells": [
  {
   "cell_type": "code",
   "execution_count": null,
   "metadata": {},
   "outputs": [],
   "source": [
    "from __future__ import print_function\n",
    "import torch\n",
    "import torch.nn as nn\n",
    "import torch.nn.functional as F\n",
    "import torch.optim as optim\n",
    "from torchvision import datasets, transforms\n",
    "from torch.autograd import Variable\n",
    "\n",
    "import numpy as np\n",
    "from torch.utils.data import Dataset, DataLoader\n",
    "import pandas as pd\n",
    "import matplotlib.pyplot as plt\n",
    "%matplotlib inline\n",
    "\n",
    "from pandas.util import hash_pandas_object\n"
   ]
  },
  {
   "cell_type": "code",
   "execution_count": 27,
   "metadata": {},
   "outputs": [],
   "source": [
    "#load main data\n",
    "pd_full_train_dataset = pd.read_csv('./kaggle_data/full_mnist_train.csv')\n",
    "pd_test_dataset = pd.read_csv('./kaggle_data/test.csv')\n"
   ]
  },
  {
   "cell_type": "code",
   "execution_count": 65,
   "metadata": {},
   "outputs": [],
   "source": [
    "#pd_test_dataset.describe()\n",
    "pd_full_train_dataset = pd.read_csv('./kaggle_data/full_mnist_train.csv')"
   ]
  },
  {
   "cell_type": "code",
   "execution_count": 3,
   "metadata": {},
   "outputs": [],
   "source": [
    "add hash columns (no good as i thnk the hash does not hold common across dataframes)\n",
    "pd_full_train_dataset[\"hash\"] = hash_pandas_object(pd_full_train_dataset)\n",
    "pd_test_dataset[\"hash\"] = hash_pandas_object(pd_test_dataset)\n",
    "\n",
    "#fix datatypes\n",
    "pd_full_train_dataset = pd_full_train_dataset.astype('int64')\n",
    "pd_test_dataset = pd_test_dataset.astype('int64')"
   ]
  },
  {
   "cell_type": "code",
   "execution_count": 40,
   "metadata": {},
   "outputs": [],
   "source": [
    "#add hash try 2a - kaggle test set(dirtyyyyyyy)\n",
    "df = pd.DataFrame(columns=['hash_str'])\n",
    "\n",
    "#for each row in test_set\n",
    "for iv, rv in pd_test_dataset.iterrows():\n",
    "    s = pd.DataFrame([str(pd_test_dataset.values[iv], )], columns=['hash_str'])\n",
    "    \n",
    "    #vt = (rv[-1])\n",
    "    #print ('vt is: ' +str (vt))\n",
    "    #print (str(vt))\n",
    "    #vs = (pd_full_train_dataset['label'].loc[pd_full_train_dataset['hash'] == vt])\n",
    "    #print (vs.values)\n",
    "    df = df.append(s, ignore_index=True)\n",
    "    \n"
   ]
  },
  {
   "cell_type": "code",
   "execution_count": 44,
   "metadata": {},
   "outputs": [],
   "source": [
    "pd_test_dataset = pd.concat([df, pd_test_dataset], axis=1)"
   ]
  },
  {
   "cell_type": "code",
   "execution_count": 67,
   "metadata": {},
   "outputs": [],
   "source": [
    "#add hash try 2b - BIg train List -(dirtyyyyyyy)\n",
    "df = pd.DataFrame(columns=['hash_str'])\n",
    "\n",
    "#for each row in test_set\n",
    "for iv, rv in pd_full_train_dataset.iterrows():\n",
    "    s = pd.DataFrame([str(pd_full_train_dataset.values[iv,1:], )], columns=['hash_str'])\n",
    "    \n",
    "    #vt = (rv[-1])\n",
    "    #print ('vt is: ' +str (vt))\n",
    "    #print (str(vt))\n",
    "    #vs = (pd_full_train_dataset['label'].loc[pd_full_train_dataset['hash'] == vt])\n",
    "    #print (vs.values)\n",
    "    df = df.append(s, ignore_index=True)\n",
    "    \n"
   ]
  },
  {
   "cell_type": "code",
   "execution_count": 68,
   "metadata": {},
   "outputs": [],
   "source": [
    "pd_full_train_dataset = pd.concat([df, pd_full_train_dataset], axis=1)"
   ]
  },
  {
   "cell_type": "code",
   "execution_count": 69,
   "metadata": {},
   "outputs": [
    {
     "data": {
      "text/html": [
       "<div>\n",
       "<style scoped>\n",
       "    .dataframe tbody tr th:only-of-type {\n",
       "        vertical-align: middle;\n",
       "    }\n",
       "\n",
       "    .dataframe tbody tr th {\n",
       "        vertical-align: top;\n",
       "    }\n",
       "\n",
       "    .dataframe thead th {\n",
       "        text-align: right;\n",
       "    }\n",
       "</style>\n",
       "<table border=\"1\" class=\"dataframe\">\n",
       "  <thead>\n",
       "    <tr style=\"text-align: right;\">\n",
       "      <th></th>\n",
       "      <th>hash_str</th>\n",
       "      <th>label</th>\n",
       "      <th>pixel0</th>\n",
       "      <th>pixel1</th>\n",
       "      <th>pixel2</th>\n",
       "      <th>pixel3</th>\n",
       "      <th>pixel4</th>\n",
       "      <th>pixel5</th>\n",
       "      <th>pixel6</th>\n",
       "      <th>pixel7</th>\n",
       "      <th>...</th>\n",
       "      <th>pixel774</th>\n",
       "      <th>pixel775</th>\n",
       "      <th>pixel776</th>\n",
       "      <th>pixel777</th>\n",
       "      <th>pixel778</th>\n",
       "      <th>pixel779</th>\n",
       "      <th>pixel780</th>\n",
       "      <th>pixel781</th>\n",
       "      <th>pixel782</th>\n",
       "      <th>pixel783</th>\n",
       "    </tr>\n",
       "  </thead>\n",
       "  <tbody>\n",
       "    <tr>\n",
       "      <th>38542</th>\n",
       "      <td>[  0   0   0   0   0   0   0   0   0   0   0  ...</td>\n",
       "      <td>2</td>\n",
       "      <td>0</td>\n",
       "      <td>0</td>\n",
       "      <td>0</td>\n",
       "      <td>0</td>\n",
       "      <td>0</td>\n",
       "      <td>0</td>\n",
       "      <td>0</td>\n",
       "      <td>0</td>\n",
       "      <td>...</td>\n",
       "      <td>0</td>\n",
       "      <td>0</td>\n",
       "      <td>0</td>\n",
       "      <td>0</td>\n",
       "      <td>0</td>\n",
       "      <td>0</td>\n",
       "      <td>0</td>\n",
       "      <td>0</td>\n",
       "      <td>0</td>\n",
       "      <td>0</td>\n",
       "    </tr>\n",
       "    <tr>\n",
       "      <th>23607</th>\n",
       "      <td>[  0   0   0   0   0   0   0   0   0   0   0  ...</td>\n",
       "      <td>7</td>\n",
       "      <td>0</td>\n",
       "      <td>0</td>\n",
       "      <td>0</td>\n",
       "      <td>0</td>\n",
       "      <td>0</td>\n",
       "      <td>0</td>\n",
       "      <td>0</td>\n",
       "      <td>0</td>\n",
       "      <td>...</td>\n",
       "      <td>0</td>\n",
       "      <td>0</td>\n",
       "      <td>0</td>\n",
       "      <td>0</td>\n",
       "      <td>0</td>\n",
       "      <td>0</td>\n",
       "      <td>0</td>\n",
       "      <td>0</td>\n",
       "      <td>0</td>\n",
       "      <td>0</td>\n",
       "    </tr>\n",
       "    <tr>\n",
       "      <th>41335</th>\n",
       "      <td>[  0   0   0   0   0   0   0   0   0   0   0  ...</td>\n",
       "      <td>2</td>\n",
       "      <td>0</td>\n",
       "      <td>0</td>\n",
       "      <td>0</td>\n",
       "      <td>0</td>\n",
       "      <td>0</td>\n",
       "      <td>0</td>\n",
       "      <td>0</td>\n",
       "      <td>0</td>\n",
       "      <td>...</td>\n",
       "      <td>0</td>\n",
       "      <td>0</td>\n",
       "      <td>0</td>\n",
       "      <td>0</td>\n",
       "      <td>0</td>\n",
       "      <td>0</td>\n",
       "      <td>0</td>\n",
       "      <td>0</td>\n",
       "      <td>0</td>\n",
       "      <td>0</td>\n",
       "    </tr>\n",
       "  </tbody>\n",
       "</table>\n",
       "<p>3 rows × 786 columns</p>\n",
       "</div>"
      ],
      "text/plain": [
       "                                                hash_str  label  pixel0  \\\n",
       "38542  [  0   0   0   0   0   0   0   0   0   0   0  ...      2       0   \n",
       "23607  [  0   0   0   0   0   0   0   0   0   0   0  ...      7       0   \n",
       "41335  [  0   0   0   0   0   0   0   0   0   0   0  ...      2       0   \n",
       "\n",
       "       pixel1  pixel2  pixel3  pixel4  pixel5  pixel6  pixel7    ...     \\\n",
       "38542       0       0       0       0       0       0       0    ...      \n",
       "23607       0       0       0       0       0       0       0    ...      \n",
       "41335       0       0       0       0       0       0       0    ...      \n",
       "\n",
       "       pixel774  pixel775  pixel776  pixel777  pixel778  pixel779  pixel780  \\\n",
       "38542         0         0         0         0         0         0         0   \n",
       "23607         0         0         0         0         0         0         0   \n",
       "41335         0         0         0         0         0         0         0   \n",
       "\n",
       "       pixel781  pixel782  pixel783  \n",
       "38542         0         0         0  \n",
       "23607         0         0         0  \n",
       "41335         0         0         0  \n",
       "\n",
       "[3 rows x 786 columns]"
      ]
     },
     "execution_count": 69,
     "metadata": {},
     "output_type": "execute_result"
    }
   ],
   "source": [
    "#print (pd_full_train_dataset.iloc[1])\n",
    "#print (pd_test_dataset.iloc[1])\n",
    "#print (df.iloc[1])\n",
    "#df.columns\n",
    "#pd_test_dataset.shape\n",
    "#type(df)\n",
    "#pd_test_dataset.sample(3)\n",
    "pd_full_train_dataset.sample(3)"
   ]
  },
  {
   "cell_type": "code",
   "execution_count": null,
   "metadata": {},
   "outputs": [],
   "source": []
  },
  {
   "cell_type": "code",
   "execution_count": 73,
   "metadata": {},
   "outputs": [],
   "source": [
    "#lookup correct label and merge\n",
    "df = pd.DataFrame(columns=['label'])\n",
    "\n",
    "#for each row in validation_set\n",
    "for iv, rv in pd_test_dataset.iterrows():\n",
    "    vt = (rv[0])\n",
    "    #print ('vt is: ' +str (vt))\n",
    "    #print (vt)\n",
    "    \n",
    "    #vs = (pd_full_train_dataset.loc[pd_full_train_dataset['hash_str'] == str(vt)])\n",
    "    \n",
    "    vs = (pd_full_train_dataset['label'].loc[pd_full_train_dataset['hash_str'] == str(vt)])\n",
    "    #print (vs)\n",
    "    df = df.append([{'label':(vs.values).astype(int)}], ignore_index=True)\n",
    "  "
   ]
  },
  {
   "cell_type": "code",
   "execution_count": 80,
   "metadata": {},
   "outputs": [
    {
     "data": {
      "text/html": [
       "<div>\n",
       "<style scoped>\n",
       "    .dataframe tbody tr th:only-of-type {\n",
       "        vertical-align: middle;\n",
       "    }\n",
       "\n",
       "    .dataframe tbody tr th {\n",
       "        vertical-align: top;\n",
       "    }\n",
       "\n",
       "    .dataframe thead th {\n",
       "        text-align: right;\n",
       "    }\n",
       "</style>\n",
       "<table border=\"1\" class=\"dataframe\">\n",
       "  <thead>\n",
       "    <tr style=\"text-align: right;\">\n",
       "      <th></th>\n",
       "      <th>label</th>\n",
       "    </tr>\n",
       "  </thead>\n",
       "  <tbody>\n",
       "    <tr>\n",
       "      <th>count</th>\n",
       "      <td>28000</td>\n",
       "    </tr>\n",
       "    <tr>\n",
       "      <th>unique</th>\n",
       "      <td>3995</td>\n",
       "    </tr>\n",
       "    <tr>\n",
       "      <th>top</th>\n",
       "      <td>[1]</td>\n",
       "    </tr>\n",
       "    <tr>\n",
       "      <th>freq</th>\n",
       "      <td>2737</td>\n",
       "    </tr>\n",
       "  </tbody>\n",
       "</table>\n",
       "</div>"
      ],
      "text/plain": [
       "        label\n",
       "count   28000\n",
       "unique   3995\n",
       "top       [1]\n",
       "freq     2737"
      ]
     },
     "execution_count": 80,
     "metadata": {},
     "output_type": "execute_result"
    }
   ],
   "source": [
    "df.describe()"
   ]
  },
  {
   "cell_type": "code",
   "execution_count": 76,
   "metadata": {},
   "outputs": [],
   "source": [
    "pd_test_dataset = pd.concat([pd_test_dataset, df], axis=1)"
   ]
  },
  {
   "cell_type": "code",
   "execution_count": 78,
   "metadata": {},
   "outputs": [],
   "source": [
    "pd_test_dataset.to_csv('kaggle_mnist_validation_set.csv', columns = ['label'], index = False)"
   ]
  },
  {
   "cell_type": "code",
   "execution_count": null,
   "metadata": {},
   "outputs": [],
   "source": []
  }
 ],
 "metadata": {
  "kernelspec": {
   "display_name": "Python 3",
   "language": "python",
   "name": "python3"
  },
  "language_info": {
   "codemirror_mode": {
    "name": "ipython",
    "version": 3
   },
   "file_extension": ".py",
   "mimetype": "text/x-python",
   "name": "python",
   "nbconvert_exporter": "python",
   "pygments_lexer": "ipython3",
   "version": "3.6.5"
  }
 },
 "nbformat": 4,
 "nbformat_minor": 2
}
