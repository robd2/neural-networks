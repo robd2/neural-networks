{
 "cells": [
  {
   "cell_type": "code",
   "execution_count": 1,
   "metadata": {},
   "outputs": [
    {
     "data": {
      "text/plain": [
       "<torch._C.Generator at 0x26155f62df0>"
      ]
     },
     "execution_count": 1,
     "metadata": {},
     "output_type": "execute_result"
    }
   ],
   "source": [
    "# Lab 12 RNN\n",
    "import sys\n",
    "import torch\n",
    "import torch.nn as nn\n",
    "from torch.autograd import Variable\n",
    "\n",
    "torch.manual_seed(777)  # reproducibility"
   ]
  },
  {
   "cell_type": "code",
   "execution_count": 2,
   "metadata": {},
   "outputs": [],
   "source": [
    "#            0    1    2    3    4\n",
    "idx2char = ['h', 'i', 'e', 'l', 'o']\n",
    "\n",
    "# Teach hihell -> ihello\n",
    "x_data = [0, 1, 0, 2, 3, 3]   # hihell\n",
    "one_hot_lookup = [[1, 0, 0, 0, 0],  # 0\n",
    "                  [0, 1, 0, 0, 0],  # 1\n",
    "                  [0, 0, 1, 0, 0],  # 2\n",
    "                  [0, 0, 0, 1, 0],  # 3\n",
    "                  [0, 0, 0, 0, 1]]  # 4\n",
    "\n",
    "y_data = [1, 0, 2, 3, 3, 4]    # ihello\n",
    "x_one_hot = [one_hot_lookup[x] for x in x_data]"
   ]
  },
  {
   "cell_type": "code",
   "execution_count": 3,
   "metadata": {},
   "outputs": [],
   "source": [
    "# As we have one batch of samples, we will change them to variables only once\n",
    "inputs = Variable(torch.Tensor(x_one_hot))\n",
    "labels = Variable(torch.LongTensor(y_data))\n",
    "\n",
    "num_classes = 5\n",
    "input_size = 5  # one-hot size\n",
    "hidden_size = 5  # output from the RNN. 5 to directly predict one-hot\n",
    "batch_size = 1   # one sentence\n",
    "sequence_length = 1  # One by one\n",
    "num_layers = 1  # one-layer rnn"
   ]
  },
  {
   "cell_type": "code",
   "execution_count": 4,
   "metadata": {},
   "outputs": [
    {
     "name": "stdout",
     "output_type": "stream",
     "text": [
      "Model(\n",
      "  (rnn): RNN(5, 5, batch_first=True)\n",
      ")\n"
     ]
    }
   ],
   "source": [
    "class Model(nn.Module):\n",
    "\n",
    "    def __init__(self):\n",
    "        super(Model, self).__init__()\n",
    "        self.rnn = nn.RNN(input_size=input_size,\n",
    "                          hidden_size=hidden_size, batch_first=True)\n",
    "\n",
    "    def forward(self, hidden, x):\n",
    "        # Reshape input (batch first)\n",
    "        x = x.view(batch_size, sequence_length, input_size)\n",
    "\n",
    "        # Propagate input through RNN\n",
    "        # Input: (batch, seq_len, input_size)\n",
    "        # hidden: (num_layers * num_directions, batch, hidden_size)\n",
    "        out, hidden = self.rnn(x, hidden)\n",
    "        return hidden, out.view(-1, num_classes)\n",
    "\n",
    "    def init_hidden(self):\n",
    "        # Initialize hidden and cell states\n",
    "        # (num_layers * num_directions, batch, hidden_size)\n",
    "        return Variable(torch.zeros(num_layers, batch_size, hidden_size))\n",
    "\n",
    "\n",
    "# Instantiate RNN model\n",
    "model = Model()\n",
    "print(model)"
   ]
  },
  {
   "cell_type": "code",
   "execution_count": 5,
   "metadata": {},
   "outputs": [],
   "source": [
    "# Set loss and optimizer function\n",
    "# CrossEntropyLoss = LogSoftmax + NLLLoss\n",
    "criterion = nn.CrossEntropyLoss()\n",
    "optimizer = torch.optim.Adam(model.parameters(), lr=0.1)"
   ]
  },
  {
   "cell_type": "code",
   "execution_count": 8,
   "metadata": {},
   "outputs": [
    {
     "name": "stdout",
     "output_type": "stream",
     "text": [
      "predicted string: ihello, epoch: 1, loss: 2.704\n",
      "predicted string: ihello, epoch: 2, loss: 2.703\n",
      "predicted string: ihello, epoch: 3, loss: 2.703\n",
      "predicted string: ihello, epoch: 4, loss: 2.703\n",
      "predicted string: ihello, epoch: 5, loss: 2.703\n",
      "predicted string: ihello, epoch: 6, loss: 2.702\n",
      "predicted string: ihello, epoch: 7, loss: 2.702\n",
      "predicted string: ihello, epoch: 8, loss: 2.702\n",
      "predicted string: ihello, epoch: 9, loss: 2.702\n",
      "predicted string: ihello, epoch: 10, loss: 2.701\n",
      "predicted string: ihello, epoch: 11, loss: 2.701\n",
      "predicted string: ihello, epoch: 12, loss: 2.701\n",
      "predicted string: ihello, epoch: 13, loss: 2.701\n",
      "predicted string: ihello, epoch: 14, loss: 2.700\n",
      "predicted string: ihello, epoch: 15, loss: 2.700\n",
      "predicted string: ihello, epoch: 16, loss: 2.700\n",
      "predicted string: ihello, epoch: 17, loss: 2.700\n",
      "predicted string: ihello, epoch: 18, loss: 2.699\n",
      "predicted string: ihello, epoch: 19, loss: 2.699\n",
      "predicted string: ihello, epoch: 20, loss: 2.699\n",
      "predicted string: ihello, epoch: 21, loss: 2.699\n",
      "predicted string: ihello, epoch: 22, loss: 2.699\n",
      "predicted string: ihello, epoch: 23, loss: 2.698\n",
      "predicted string: ihello, epoch: 24, loss: 2.698\n",
      "predicted string: ihello, epoch: 25, loss: 2.698\n",
      "predicted string: ihello, epoch: 26, loss: 2.698\n",
      "predicted string: ihello, epoch: 27, loss: 2.697\n",
      "predicted string: ihello, epoch: 28, loss: 2.697\n",
      "predicted string: ihello, epoch: 29, loss: 2.697\n",
      "predicted string: ihello, epoch: 30, loss: 2.697\n",
      "predicted string: ihello, epoch: 31, loss: 2.697\n",
      "predicted string: ihello, epoch: 32, loss: 2.696\n",
      "predicted string: ihello, epoch: 33, loss: 2.696\n",
      "predicted string: ihello, epoch: 34, loss: 2.696\n",
      "predicted string: ihello, epoch: 35, loss: 2.696\n",
      "predicted string: ihello, epoch: 36, loss: 2.696\n",
      "predicted string: ihello, epoch: 37, loss: 2.695\n",
      "predicted string: ihello, epoch: 38, loss: 2.695\n",
      "predicted string: ihello, epoch: 39, loss: 2.695\n",
      "predicted string: ihello, epoch: 40, loss: 2.695\n",
      "predicted string: ihe"
     ]
    },
    {
     "name": "stderr",
     "output_type": "stream",
     "text": [
      "C:\\Anaconda3\\lib\\site-packages\\ipykernel_launcher.py:22: UserWarning: invalid index of a 0-dim tensor. This will be an error in PyTorch 0.5. Use tensor.item() to convert a 0-dim tensor to a Python number\n"
     ]
    },
    {
     "name": "stdout",
     "output_type": "stream",
     "text": [
      "llo, epoch: 41, loss: 2.695\n",
      "predicted string: ihello, epoch: 42, loss: 2.694\n",
      "predicted string: ihello, epoch: 43, loss: 2.694\n",
      "predicted string: ihello, epoch: 44, loss: 2.694\n",
      "predicted string: ihello, epoch: 45, loss: 2.694\n",
      "predicted string: ihello, epoch: 46, loss: 2.694\n",
      "predicted string: ihello, epoch: 47, loss: 2.693\n",
      "predicted string: ihello, epoch: 48, loss: 2.693\n",
      "predicted string: ihello, epoch: 49, loss: 2.693\n",
      "predicted string: ihello, epoch: 50, loss: 2.693\n",
      "predicted string: ihello, epoch: 51, loss: 2.693\n",
      "predicted string: ihello, epoch: 52, loss: 2.692\n",
      "predicted string: ihello, epoch: 53, loss: 2.692\n",
      "predicted string: ihello, epoch: 54, loss: 2.692\n",
      "predicted string: ihello, epoch: 55, loss: 2.692\n",
      "predicted string: ihello, epoch: 56, loss: 2.692\n",
      "predicted string: ihello, epoch: 57, loss: 2.691\n",
      "predicted string: ihello, epoch: 58, loss: 2.691\n",
      "predicted string: ihello, epoch: 59, loss: 2.691\n",
      "predicted string: ihello, epoch: 60, loss: 2.691\n",
      "predicted string: ihello, epoch: 61, loss: 2.691\n",
      "predicted string: ihello, epoch: 62, loss: 2.691\n",
      "predicted string: ihello, epoch: 63, loss: 2.690\n",
      "predicted string: ihello, epoch: 64, loss: 2.690\n",
      "predicted string: ihello, epoch: 65, loss: 2.690\n",
      "predicted string: ihello, epoch: 66, loss: 2.690\n",
      "predicted string: ihello, epoch: 67, loss: 2.690\n",
      "predicted string: ihello, epoch: 68, loss: 2.689\n",
      "predicted string: ihello, epoch: 69, loss: 2.689\n",
      "predicted string: ihello, epoch: 70, loss: 2.689\n",
      "predicted string: ihello, epoch: 71, loss: 2.689\n",
      "predicted string: ihello, epoch: 72, loss: 2.689\n",
      "predicted string: ihello, epoch: 73, loss: 2.689\n",
      "predicted string: ihello, epoch: 74, loss: 2.688\n",
      "predicted string: ihello, epoch: 75, loss: 2.688\n",
      "predicted string: ihello, epoch: 76, loss: 2.688\n",
      "predicted string: ihello, epoch: 77, loss: 2.688\n",
      "predicted string: ihello, epoch: 78, loss: 2.688\n",
      "predicted string: ihello, epoch: 79, loss: 2.688\n",
      "predicted string: ihello, epoch: 80, loss: 2.687\n",
      "predicted string: ihello, epoch: 81, loss: 2.687\n",
      "predicted string: ihello, epoch: 82, loss: 2.687\n",
      "predicted string: ihello, epoch: 83, loss: 2.687\n",
      "predicted string: ihello, epoch: 84, loss: 2.687\n",
      "predicted string: ihello, epoch: 85, loss: 2.687\n",
      "predicted string: ihello, epoch: 86, loss: 2.687\n",
      "predicted string: ihello, epoch: 87, loss: 2.686\n",
      "predicted string: ihello, epoch: 88, loss: 2.686\n",
      "predicted string: ihello, epoch: 89, loss: 2.686\n",
      "predicted string: ihello, epoch: 90, loss: 2.686\n",
      "predicted string: ihello, epoch: 91, loss: 2.686\n",
      "predicted string: ihello, epoch: 92, loss: 2.686\n",
      "predicted string: ihello, epoch: 93, loss: 2.685\n",
      "predicted string: ihello, epoch: 94, loss: 2.685\n",
      "predicted string: ihello, epoch: 95, loss: 2.685\n",
      "predicted string: ihello, epoch: 96, loss: 2.685\n",
      "predicted string: ihello, epoch: 97, loss: 2.685\n",
      "predicted string: ihello, epoch: 98, loss: 2.685\n",
      "predicted string: ihello, epoch: 99, loss: 2.685\n",
      "predicted string: ihello, epoch: 100, loss: 2.684\n",
      "Learning finished!\n"
     ]
    }
   ],
   "source": [
    "# Train the model\n",
    "for epoch in range(100):\n",
    "    optimizer.zero_grad()\n",
    "    loss = 0\n",
    "    hidden = model.init_hidden()\n",
    "\n",
    "    sys.stdout.write(\"predicted string: \")\n",
    "    for input, label in zip(inputs, labels):\n",
    "        # print(input.size(), label.size())\n",
    "        \n",
    "        #print (\"the lab is:\" + str (label.shape))\n",
    "        label = label.unsqueeze(0)\n",
    "        #print (\"the lab is:\" + str (label.shape))\n",
    "        \n",
    "        hidden, output = model(hidden, input)\n",
    "        val, idx = output.max(1)\n",
    "        sys.stdout.write(idx2char[idx.data[0]])\n",
    "        #print (output)\n",
    "        #print (label)\n",
    "        loss += criterion(output, label)\n",
    "\n",
    "    print(\", epoch: %d, loss: %1.3f\" % (epoch + 1, loss.data[0]))\n",
    "\n",
    "    loss.backward()\n",
    "    optimizer.step()\n",
    "\n",
    "print(\"Learning finished!\")"
   ]
  },
  {
   "cell_type": "code",
   "execution_count": null,
   "metadata": {},
   "outputs": [],
   "source": []
  },
  {
   "cell_type": "code",
   "execution_count": null,
   "metadata": {},
   "outputs": [],
   "source": []
  }
 ],
 "metadata": {
  "kernelspec": {
   "display_name": "Python 3",
   "language": "python",
   "name": "python3"
  },
  "language_info": {
   "codemirror_mode": {
    "name": "ipython",
    "version": 3
   },
   "file_extension": ".py",
   "mimetype": "text/x-python",
   "name": "python",
   "nbconvert_exporter": "python",
   "pygments_lexer": "ipython3",
   "version": "3.6.5"
  }
 },
 "nbformat": 4,
 "nbformat_minor": 2
}
