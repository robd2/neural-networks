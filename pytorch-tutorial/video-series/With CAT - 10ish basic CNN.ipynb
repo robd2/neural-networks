{
 "cells": [
  {
   "cell_type": "code",
   "execution_count": 2,
   "metadata": {},
   "outputs": [],
   "source": [
    "import torch\n",
    "from torch.autograd import Variable\n",
    "import torch.nn.functional as F\n",
    "import torch.nn as nn\n",
    "\n",
    "import numpy as np\n",
    "import matplotlib.pyplot as plt\n",
    "import h5py\n",
    "import scipy\n",
    "from PIL import Image\n",
    "from scipy import ndimage\n",
    "#from lr_utils import load_dataset\n",
    "\n",
    "%matplotlib inline"
   ]
  },
  {
   "cell_type": "code",
   "execution_count": 3,
   "metadata": {},
   "outputs": [],
   "source": [
    "def load_dataset():\n",
    "    train_dataset = h5py.File('datasets/train_catvnoncat.h5', \"r\")\n",
    "    train_set_x_orig = np.array(train_dataset[\"train_set_x\"][:]) # your train set features\n",
    "    train_set_y_orig = np.array(train_dataset[\"train_set_y\"][:]) # your train set labels\n",
    "\n",
    "    test_dataset = h5py.File('datasets/test_catvnoncat.h5', \"r\")\n",
    "    test_set_x_orig = np.array(test_dataset[\"test_set_x\"][:]) # your test set features\n",
    "    test_set_y_orig = np.array(test_dataset[\"test_set_y\"][:]) # your test set labels\n",
    "\n",
    "    classes = np.array(test_dataset[\"list_classes\"][:]) # the list of classes\n",
    "    \n",
    "    train_set_y_orig = train_set_y_orig.reshape((1, train_set_y_orig.shape[0]))\n",
    "    test_set_y_orig = test_set_y_orig.reshape((1, test_set_y_orig.shape[0]))\n",
    "    \n",
    "    return train_set_x_orig, train_set_y_orig, test_set_x_orig, test_set_y_orig, classes"
   ]
  },
  {
   "cell_type": "code",
   "execution_count": 59,
   "metadata": {},
   "outputs": [
    {
     "name": "stdout",
     "output_type": "stream",
     "text": [
      "Number of training examples: m_train = 209\n",
      "Number of testing examples: m_test = 50\n",
      "Height/Width of each image: num_px = 64\n",
      "Each image is of size: (64, 64, 3)\n",
      "train_set_x_orig shape: (209, 64, 64, 3)\n",
      "train_set_y shape: (1, 209)\n",
      "test_set_x_orig shape: (50, 64, 64, 3)\n",
      "test_set_y shape: (1, 50)\n"
     ]
    }
   ],
   "source": [
    "#Load Training Data\n",
    "train_set_x_orig, train_set_y, test_set_x_orig, test_set_y, classes = load_dataset()\n",
    "\n",
    "m_train = train_set_x_orig.shape[0]\n",
    "m_test = test_set_x_orig.shape[0]\n",
    "num_px = train_set_x_orig.shape[1]\n",
    "\n",
    "print (\"Number of training examples: m_train = \" + str(m_train))\n",
    "print (\"Number of testing examples: m_test = \" + str(m_test))\n",
    "print (\"Height/Width of each image: num_px = \" + str(num_px))\n",
    "print (\"Each image is of size: (\" + str(num_px) + \", \" + str(num_px) + \", 3)\")\n",
    "print (\"train_set_x_orig shape: \" + str(train_set_x_orig.shape))\n",
    "print (\"train_set_y shape: \" + str(train_set_y.shape))\n",
    "print (\"test_set_x_orig shape: \" + str(test_set_x_orig.shape))\n",
    "print (\"test_set_y shape: \" + str(test_set_y.shape))"
   ]
  },
  {
   "cell_type": "code",
   "execution_count": 60,
   "metadata": {},
   "outputs": [
    {
     "name": "stdout",
     "output_type": "stream",
     "text": [
      "y = [1], it's a 'cat' picture.\n"
     ]
    },
    {
     "data": {
      "image/png": "[encoded data removed]",
      "text/plain": [
       "<Figure size 432x288 with 1 Axes>"
      ]
     },
     "metadata": {},
     "output_type": "display_data"
    }
   ],
   "source": [
    "# Example of a picture\n",
    "index = 25\n",
    "plt.imshow(train_set_x_orig[index])\n",
    "\n",
    "\n",
    "print (\"y = \" + str(train_set_y[:, index]) + \", it's a '\" + classes[np.squeeze(train_set_y[:, index])].decode(\"utf-8\") +  \"' picture.\")"
   ]
  },
  {
   "cell_type": "code",
   "execution_count": 38,
   "metadata": {},
   "outputs": [
    {
     "name": "stdout",
     "output_type": "stream",
     "text": [
      "sanity check after reshaping: [ 17 196  82   1   9]\n",
      "train_set_x_orig shape: (209, 64, 64, 3)\n",
      "train_set_x_flatten shape: (209, 12288)\n"
     ]
    }
   ],
   "source": [
    "ooooooo\n",
    "\n",
    "train_set_x_flatten = train_set_x_orig.reshape(train_set_x_orig.shape[0], -1)\n",
    "print (\"sanity check after reshaping: \" + str(train_set_x_flatten[0:5,0]))\n",
    "\n",
    "print (\"train_set_x_orig shape: \" + str(train_set_x_orig.shape))\n",
    "print (\"train_set_x_flatten shape: \" + str(train_set_x_flatten.shape))\n",
    "#test_view = train_set_x_orig.view(12288, -1)\n",
    "#print (\"train_set_x_flatten shape: \" + str(train_set_x_flatten.shape))\n"
   ]
  },
  {
   "cell_type": "code",
   "execution_count": null,
   "metadata": {},
   "outputs": [],
   "source": []
  },
  {
   "cell_type": "code",
   "execution_count": 65,
   "metadata": {},
   "outputs": [
    {
     "name": "stdout",
     "output_type": "stream",
     "text": [
      "(209, 64, 64, 3)\n",
      "torch.Size([209, 3, 64, 64])\n",
      "(1, 209)\n",
      "torch.Size([1, 209])\n",
      "torch.FloatTensor\n",
      "torch.Size([50, 3, 64, 64])\n"
     ]
    }
   ],
   "source": [
    "#print (\"sanity check after reshaping: \" + str(train_set_x_orig[0:5,0]))\n",
    "train_set_x_orig = train_set_x_orig/255\n",
    "test_set_x_orig = test_set_x_orig/255\n",
    "#print (\"sanity check after reshaping: \" + str(train_set_x_orig[0:5,0]))\n",
    "\n",
    "#convert numpy arrays to torch tensors\n",
    "pt_train_set_x = torch.from_numpy(train_set_x_orig).float()\n",
    "pt_train_set_y = torch.from_numpy(train_set_y).float()\n",
    "pt_test_set_x = torch.from_numpy(test_set_x_orig).float()\n",
    "pt_test_set_y = torch.from_numpy(test_set_y).float()\n",
    "\n",
    "pt_train_set_x = pt_train_set_x.reshape(209,3,64,64)\n",
    "pt_test_set_x = pt_test_set_x.reshape (50,3,64,64)\n",
    "\n",
    "\n",
    "print (train_set_x_orig.shape)\n",
    "print (pt_train_set_x.shape)\n",
    "print (train_set_y.shape)\n",
    "print (pt_train_set_y.shape)\n",
    "print (pt_train_set_x.type())\n",
    "\n",
    "print (pt_test_set_x.shape)\n"
   ]
  },
  {
   "cell_type": "code",
   "execution_count": 130,
   "metadata": {},
   "outputs": [],
   "source": [
    "class Net(nn.Module):\n",
    "\n",
    "    def __init__(self):\n",
    "        super(Net, self).__init__()\n",
    "        self.conv1 = nn.Conv2d(3, 10, kernel_size=5)\n",
    "        self.conv2 = nn.Conv2d(10, 20, kernel_size=5)\n",
    "        self.mp = nn.MaxPool2d(2)\n",
    "        self.fc = nn.Linear(3380, 1)\n",
    "        #self.fc = nn.Linear(9000, 1)\n",
    "        #self.fc = nn.Linear(12288, 1)\n",
    "        self.sigmoid = torch.nn.Sigmoid()\n",
    "\n",
    "    def forward(self, x):\n",
    "        in_size = x.size(0)\n",
    "        #print (\"in_size = \" + str (in_size))\n",
    "        x = F.relu(self.mp(self.conv1(x)))\n",
    "        x = F.relu(self.mp(self.conv2(x)))\n",
    "        x = x.view(in_size, -1)  # flatten the tensor\n",
    "        #print (x.shape)\n",
    "        #print (\"sanity check after reshaping: \" + str(x[0:5,0]))\n",
    "        \n",
    "        return self.sigmoid(self.fc(x))\n",
    "        \n",
    "    \n",
    "        #return F.log_softmax(x)\n",
    "        #return self.sigmoid(self.l3(out2))\n",
    "\n",
    "model = Net()\n",
    "\n",
    "#optimizer = optim.SGD(model.parameters(), lr=0.01, momentum=0.5)"
   ]
  },
  {
   "cell_type": "code",
   "execution_count": null,
   "metadata": {},
   "outputs": [],
   "source": []
  },
  {
   "cell_type": "code",
   "execution_count": 131,
   "metadata": {
    "scrolled": true
   },
   "outputs": [
    {
     "name": "stderr",
     "output_type": "stream",
     "text": [
      "C:\\ProgramData\\Anaconda3\\lib\\site-packages\\torch\\nn\\functional.py:52: UserWarning: size_average and reduce args will be deprecated, please use reduction='elementwise_mean' instead.\n",
      "  warnings.warn(warning.format(ret))\n"
     ]
    }
   ],
   "source": [
    "# Construct our loss function and an Optimizer. The call to model.parameters()\n",
    "# in the SGD constructor will contain the learnable parameters of the two\n",
    "# nn.Linear modules which are members of the model.\n",
    "criterion = torch.nn.BCELoss(size_average=True)\n",
    "optimizer = torch.optim.SGD(model.parameters(), lr=0.01, momentum=0.5)\n",
    "#optimizer = torch.optim.SGD(model.parameters(), lr=0.01)"
   ]
  },
  {
   "cell_type": "code",
   "execution_count": 132,
   "metadata": {},
   "outputs": [
    {
     "name": "stderr",
     "output_type": "stream",
     "text": [
      "C:\\ProgramData\\Anaconda3\\lib\\site-packages\\torch\\nn\\functional.py:1594: UserWarning: Using a target size (torch.Size([1, 209])) that is different to the input size (torch.Size([209, 1])) is deprecated. Please ensure they have the same size.\n",
      "  \"Please ensure they have the same size.\".format(target.size(), input.size()))\n",
      "C:\\ProgramData\\Anaconda3\\lib\\site-packages\\ipykernel_launcher.py:25: UserWarning: invalid index of a 0-dim tensor. This will be an error in PyTorch 0.5. Use tensor.item() to convert a 0-dim tensor to a Python number\n",
      "C:\\ProgramData\\Anaconda3\\lib\\site-packages\\ipykernel_launcher.py:26: UserWarning: invalid index of a 0-dim tensor. This will be an error in PyTorch 0.5. Use tensor.item() to convert a 0-dim tensor to a Python number\n"
     ]
    },
    {
     "name": "stdout",
     "output_type": "stream",
     "text": [
      "0 tensor(0.6905)\n",
      "10 tensor(0.6410)\n",
      "20 tensor(0.6360)\n",
      "30 tensor(0.6320)\n",
      "40 tensor(0.6271)\n",
      "50 tensor(0.6206)\n",
      "60 tensor(0.6117)\n",
      "70 tensor(0.5997)\n",
      "80 tensor(0.5847)\n",
      "90 tensor(0.5675)\n",
      "100 tensor(0.5482)\n",
      "110 tensor(0.5294)\n",
      "120 tensor(0.5117)\n",
      "130 tensor(0.4945)\n",
      "140 tensor(0.4783)\n",
      "150 tensor(0.4999)\n",
      "160 tensor(0.4608)\n",
      "170 tensor(0.5939)\n",
      "180 tensor(0.4587)\n",
      "190 tensor(0.4962)\n",
      "200 tensor(0.4629)\n",
      "210 tensor(0.4633)\n",
      "220 tensor(0.4603)\n",
      "230 tensor(0.4566)\n",
      "240 tensor(0.4544)\n",
      "250 tensor(0.4641)\n",
      "260 tensor(0.5619)\n",
      "270 tensor(0.4368)\n",
      "280 tensor(0.4174)\n",
      "290 tensor(0.4270)\n",
      "300 tensor(0.5582)\n",
      "310 tensor(0.4317)\n",
      "320 tensor(0.4054)\n",
      "330 tensor(0.5264)\n",
      "340 tensor(0.4051)\n",
      "350 tensor(0.3993)\n",
      "360 tensor(0.4116)\n",
      "370 tensor(0.4115)\n",
      "380 tensor(0.3855)\n",
      "390 tensor(0.3977)\n",
      "400 tensor(0.4125)\n",
      "410 tensor(0.3803)\n",
      "420 tensor(0.3811)\n",
      "430 tensor(0.3842)\n",
      "440 tensor(0.3586)\n",
      "450 tensor(0.4078)\n",
      "460 tensor(0.3593)\n",
      "470 tensor(0.3614)\n",
      "480 tensor(0.5176)\n",
      "490 tensor(0.3511)\n",
      "500 tensor(0.3698)\n",
      "510 tensor(0.4579)\n",
      "520 tensor(0.3521)\n",
      "530 tensor(0.3388)\n",
      "540 tensor(0.3554)\n",
      "550 tensor(0.3747)\n",
      "560 tensor(0.3457)\n",
      "570 tensor(0.3112)\n",
      "580 tensor(0.3721)\n",
      "590 tensor(0.3154)\n",
      "600 tensor(0.9369)\n",
      "610 tensor(0.3135)\n",
      "620 tensor(0.4659)\n",
      "630 tensor(0.3360)\n",
      "640 tensor(0.2903)\n",
      "650 tensor(0.5209)\n",
      "660 tensor(0.2981)\n",
      "670 tensor(0.2978)\n",
      "680 tensor(0.3116)\n",
      "690 tensor(0.2679)\n",
      "700 tensor(1.0984)\n",
      "710 tensor(0.3004)\n",
      "720 tensor(0.2566)\n",
      "730 tensor(0.3284)\n",
      "740 tensor(0.2712)\n",
      "750 tensor(0.2411)\n",
      "760 tensor(0.2854)\n",
      "770 tensor(0.2736)\n",
      "780 tensor(0.2466)\n",
      "790 tensor(0.2293)\n"
     ]
    }
   ],
   "source": [
    "# Training loop\n",
    "\n",
    "#Log some data\n",
    "costs = []\n",
    "train_acc = []\n",
    "test_acc = []\n",
    "\n",
    "#Train\n",
    "for epoch in range(800):\n",
    "    # Forward pass: Compute predicted y by passing x to the model\n",
    "    y_pred = model(pt_train_set_x)\n",
    "\n",
    "    # Compute and print loss\n",
    "    loss = criterion(y_pred, pt_train_set_y)\n",
    "\n",
    "        \n",
    "    # Zero gradients, perform a backward pass, and update the weights.\n",
    "    optimizer.zero_grad()\n",
    "    loss.backward()\n",
    "    optimizer.step()\n",
    "    \n",
    "    \n",
    "    # Record Metrics\n",
    "    if epoch % 10 == 0:\n",
    "        print(epoch, loss.data[0])\n",
    "        costs.append(loss.data[0])\n",
    "        \n",
    "        #Record Accuracy\n",
    "        temp_acc_train = accuracy(pt_train_set_x, train_set_y)\n",
    "        train_acc.append(temp_acc_train)\n",
    "    \n",
    "        temp_acc_test = accuracy(pt_test_set_x, test_set_y)\n",
    "        test_acc.append(temp_acc_test)\n",
    "        "
   ]
  },
  {
   "cell_type": "code",
   "execution_count": null,
   "metadata": {},
   "outputs": [],
   "source": []
  },
  {
   "cell_type": "code",
   "execution_count": 133,
   "metadata": {},
   "outputs": [
    {
     "data": {
      "image/png": "[encoded data removed]",
      "text/plain": [
       "<Figure size 432x288 with 1 Axes>"
      ]
     },
     "metadata": {},
     "output_type": "display_data"
    },
    {
     "data": {
      "image/png": "[encoded data removed]",
      "text/plain": [
       "<Figure size 432x288 with 1 Axes>"
      ]
     },
     "metadata": {},
     "output_type": "display_data"
    }
   ],
   "source": [
    "# Plots\n",
    "\n",
    "# Plot loss over time# Plot  \n",
    "plt.plot(costs, 'k-')\n",
    "plt.title('Cross Entropy Loss per Generation')\n",
    "plt.xlabel('Epoch')\n",
    "plt.ylabel('Cross Entropy Loss')\n",
    "plt.show()\n",
    "\n",
    "# Plot train and test accuracy\n",
    "plt.plot(train_acc, 'k-', label='Train Set Accuracy')\n",
    "plt.plot(test_acc, 'r--', label='Test Set Accuracy')\n",
    "plt.title('Train and Test Accuracy')\n",
    "plt.xlabel('Epoch')\n",
    "plt.ylabel('Accuracy')\n",
    "plt.legend(loc='lower right')\n",
    "plt.show()"
   ]
  },
  {
   "cell_type": "code",
   "execution_count": 134,
   "metadata": {},
   "outputs": [
    {
     "name": "stdout",
     "output_type": "stream",
     "text": [
      "train set accuracy = 0.8803827751196173\n",
      "test set accuracy = 0.76\n"
     ]
    }
   ],
   "source": [
    "# Train and Test Set Predictions\n",
    "print (\"train set accuracy = \" + str (accuracy(pt_train_set_x,train_set_y)))\n",
    "print (\"test set accuracy = \" + str (accuracy(pt_test_set_x,test_set_y)))\n"
   ]
  },
  {
   "cell_type": "code",
   "execution_count": null,
   "metadata": {},
   "outputs": [],
   "source": [
    "print (prediction)"
   ]
  },
  {
   "cell_type": "code",
   "execution_count": 13,
   "metadata": {},
   "outputs": [],
   "source": [
    "def accuracy(X, Y):\n",
    "    \"\"\"\n",
    "    This function is used to measure accuracy of the model.\n",
    "    \n",
    "    Arguments:\n",
    "    X -- data set of examples you would like to label\n",
    "    Y -- labels\n",
    "    \n",
    "    Returns:\n",
    "    p -- predictions for the given dataset X\n",
    "    \"\"\"\n",
    "    \n",
    "    prediction = model(X)\n",
    "    np_prediction = np.round(prediction.detach().numpy())\n",
    "    predictions_correct = np.equal(np_prediction, Y.T)\n",
    "    p = np.mean(predictions_correct)\n",
    "        \n",
    "    return p"
   ]
  },
  {
   "cell_type": "code",
   "execution_count": null,
   "metadata": {},
   "outputs": [],
   "source": []
  },
  {
   "cell_type": "code",
   "execution_count": 100,
   "metadata": {},
   "outputs": [
    {
     "name": "stdout",
     "output_type": "stream",
     "text": [
      "(64, 64, 3)\n",
      "(3, 64, 64)\n"
     ]
    },
    {
     "name": "stderr",
     "output_type": "stream",
     "text": [
      "C:\\ProgramData\\Anaconda3\\lib\\site-packages\\ipykernel_launcher.py:9: DeprecationWarning: `imread` is deprecated!\n",
      "`imread` is deprecated in SciPy 1.0.0.\n",
      "Use ``matplotlib.pyplot.imread`` instead.\n",
      "  if __name__ == '__main__':\n",
      "C:\\ProgramData\\Anaconda3\\lib\\site-packages\\ipykernel_launcher.py:10: DeprecationWarning: `imresize` is deprecated!\n",
      "`imresize` is deprecated in SciPy 1.0.0, and will be removed in 1.2.0.\n",
      "Use ``skimage.transform.resize`` instead.\n",
      "  # Remove the CWD from sys.path while we load stuff.\n"
     ]
    },
    {
     "ename": "RuntimeError",
     "evalue": "Expected 4-dimensional input for 4-dimensional weight [10, 3, 5, 5], but got input of size [3, 64, 64] instead",
     "output_type": "error",
     "traceback": [
      "\u001b[1;31m---------------------------------------------------------------------------\u001b[0m",
      "\u001b[1;31mRuntimeError\u001b[0m                              Traceback (most recent call last)",
      "\u001b[1;32m<ipython-input-100-8ccfe989fc0f>\u001b[0m in \u001b[0;36m<module>\u001b[1;34m()\u001b[0m\n\u001b[0;32m     16\u001b[0m \u001b[1;33m\u001b[0m\u001b[0m\n\u001b[0;32m     17\u001b[0m \u001b[1;33m\u001b[0m\u001b[0m\n\u001b[1;32m---> 18\u001b[1;33m \u001b[0mprint\u001b[0m \u001b[1;33m(\u001b[0m\u001b[1;34m\"The Algo says \"\u001b[0m \u001b[1;33m+\u001b[0m \u001b[0mstr\u001b[0m\u001b[1;33m(\u001b[0m\u001b[0mmodel\u001b[0m\u001b[1;33m(\u001b[0m\u001b[0mpt_my_image\u001b[0m\u001b[1;33m)\u001b[0m\u001b[1;33m)\u001b[0m\u001b[1;33m)\u001b[0m\u001b[1;33m\u001b[0m\u001b[0m\n\u001b[0m\u001b[0;32m     19\u001b[0m \u001b[0mplt\u001b[0m\u001b[1;33m.\u001b[0m\u001b[0mimshow\u001b[0m\u001b[1;33m(\u001b[0m\u001b[0mimage\u001b[0m\u001b[1;33m)\u001b[0m\u001b[1;33m\u001b[0m\u001b[0m\n\u001b[0;32m     20\u001b[0m \u001b[0mplt\u001b[0m\u001b[1;33m.\u001b[0m\u001b[0mshow\u001b[0m\u001b[1;33m(\u001b[0m\u001b[1;33m)\u001b[0m\u001b[1;33m\u001b[0m\u001b[0m\n",
      "\u001b[1;32mC:\\ProgramData\\Anaconda3\\lib\\site-packages\\torch\\nn\\modules\\module.py\u001b[0m in \u001b[0;36m__call__\u001b[1;34m(self, *input, **kwargs)\u001b[0m\n\u001b[0;32m    475\u001b[0m             \u001b[0mresult\u001b[0m \u001b[1;33m=\u001b[0m \u001b[0mself\u001b[0m\u001b[1;33m.\u001b[0m\u001b[0m_slow_forward\u001b[0m\u001b[1;33m(\u001b[0m\u001b[1;33m*\u001b[0m\u001b[0minput\u001b[0m\u001b[1;33m,\u001b[0m \u001b[1;33m**\u001b[0m\u001b[0mkwargs\u001b[0m\u001b[1;33m)\u001b[0m\u001b[1;33m\u001b[0m\u001b[0m\n\u001b[0;32m    476\u001b[0m         \u001b[1;32melse\u001b[0m\u001b[1;33m:\u001b[0m\u001b[1;33m\u001b[0m\u001b[0m\n\u001b[1;32m--> 477\u001b[1;33m             \u001b[0mresult\u001b[0m \u001b[1;33m=\u001b[0m \u001b[0mself\u001b[0m\u001b[1;33m.\u001b[0m\u001b[0mforward\u001b[0m\u001b[1;33m(\u001b[0m\u001b[1;33m*\u001b[0m\u001b[0minput\u001b[0m\u001b[1;33m,\u001b[0m \u001b[1;33m**\u001b[0m\u001b[0mkwargs\u001b[0m\u001b[1;33m)\u001b[0m\u001b[1;33m\u001b[0m\u001b[0m\n\u001b[0m\u001b[0;32m    478\u001b[0m         \u001b[1;32mfor\u001b[0m \u001b[0mhook\u001b[0m \u001b[1;32min\u001b[0m \u001b[0mself\u001b[0m\u001b[1;33m.\u001b[0m\u001b[0m_forward_hooks\u001b[0m\u001b[1;33m.\u001b[0m\u001b[0mvalues\u001b[0m\u001b[1;33m(\u001b[0m\u001b[1;33m)\u001b[0m\u001b[1;33m:\u001b[0m\u001b[1;33m\u001b[0m\u001b[0m\n\u001b[0;32m    479\u001b[0m             \u001b[0mhook_result\u001b[0m \u001b[1;33m=\u001b[0m \u001b[0mhook\u001b[0m\u001b[1;33m(\u001b[0m\u001b[0mself\u001b[0m\u001b[1;33m,\u001b[0m \u001b[0minput\u001b[0m\u001b[1;33m,\u001b[0m \u001b[0mresult\u001b[0m\u001b[1;33m)\u001b[0m\u001b[1;33m\u001b[0m\u001b[0m\n",
      "\u001b[1;32m<ipython-input-91-6c881746c001>\u001b[0m in \u001b[0;36mforward\u001b[1;34m(self, x)\u001b[0m\n\u001b[0;32m     13\u001b[0m         \u001b[0min_size\u001b[0m \u001b[1;33m=\u001b[0m \u001b[0mx\u001b[0m\u001b[1;33m.\u001b[0m\u001b[0msize\u001b[0m\u001b[1;33m(\u001b[0m\u001b[1;36m0\u001b[0m\u001b[1;33m)\u001b[0m\u001b[1;33m\u001b[0m\u001b[0m\n\u001b[0;32m     14\u001b[0m         \u001b[1;31m#print (\"in_size = \" + str (in_size))\u001b[0m\u001b[1;33m\u001b[0m\u001b[1;33m\u001b[0m\u001b[0m\n\u001b[1;32m---> 15\u001b[1;33m         \u001b[0mx\u001b[0m \u001b[1;33m=\u001b[0m \u001b[0mF\u001b[0m\u001b[1;33m.\u001b[0m\u001b[0mrelu\u001b[0m\u001b[1;33m(\u001b[0m\u001b[0mself\u001b[0m\u001b[1;33m.\u001b[0m\u001b[0mmp\u001b[0m\u001b[1;33m(\u001b[0m\u001b[0mself\u001b[0m\u001b[1;33m.\u001b[0m\u001b[0mconv1\u001b[0m\u001b[1;33m(\u001b[0m\u001b[0mx\u001b[0m\u001b[1;33m)\u001b[0m\u001b[1;33m)\u001b[0m\u001b[1;33m)\u001b[0m\u001b[1;33m\u001b[0m\u001b[0m\n\u001b[0m\u001b[0;32m     16\u001b[0m         \u001b[1;31m#x = F.relu(self.mp(self.conv2(x)))\u001b[0m\u001b[1;33m\u001b[0m\u001b[1;33m\u001b[0m\u001b[0m\n\u001b[0;32m     17\u001b[0m         \u001b[0mx\u001b[0m \u001b[1;33m=\u001b[0m \u001b[0mx\u001b[0m\u001b[1;33m.\u001b[0m\u001b[0mview\u001b[0m\u001b[1;33m(\u001b[0m\u001b[0min_size\u001b[0m\u001b[1;33m,\u001b[0m \u001b[1;33m-\u001b[0m\u001b[1;36m1\u001b[0m\u001b[1;33m)\u001b[0m  \u001b[1;31m# flatten the tensor\u001b[0m\u001b[1;33m\u001b[0m\u001b[0m\n",
      "\u001b[1;32mC:\\ProgramData\\Anaconda3\\lib\\site-packages\\torch\\nn\\modules\\module.py\u001b[0m in \u001b[0;36m__call__\u001b[1;34m(self, *input, **kwargs)\u001b[0m\n\u001b[0;32m    475\u001b[0m             \u001b[0mresult\u001b[0m \u001b[1;33m=\u001b[0m \u001b[0mself\u001b[0m\u001b[1;33m.\u001b[0m\u001b[0m_slow_forward\u001b[0m\u001b[1;33m(\u001b[0m\u001b[1;33m*\u001b[0m\u001b[0minput\u001b[0m\u001b[1;33m,\u001b[0m \u001b[1;33m**\u001b[0m\u001b[0mkwargs\u001b[0m\u001b[1;33m)\u001b[0m\u001b[1;33m\u001b[0m\u001b[0m\n\u001b[0;32m    476\u001b[0m         \u001b[1;32melse\u001b[0m\u001b[1;33m:\u001b[0m\u001b[1;33m\u001b[0m\u001b[0m\n\u001b[1;32m--> 477\u001b[1;33m             \u001b[0mresult\u001b[0m \u001b[1;33m=\u001b[0m \u001b[0mself\u001b[0m\u001b[1;33m.\u001b[0m\u001b[0mforward\u001b[0m\u001b[1;33m(\u001b[0m\u001b[1;33m*\u001b[0m\u001b[0minput\u001b[0m\u001b[1;33m,\u001b[0m \u001b[1;33m**\u001b[0m\u001b[0mkwargs\u001b[0m\u001b[1;33m)\u001b[0m\u001b[1;33m\u001b[0m\u001b[0m\n\u001b[0m\u001b[0;32m    478\u001b[0m         \u001b[1;32mfor\u001b[0m \u001b[0mhook\u001b[0m \u001b[1;32min\u001b[0m \u001b[0mself\u001b[0m\u001b[1;33m.\u001b[0m\u001b[0m_forward_hooks\u001b[0m\u001b[1;33m.\u001b[0m\u001b[0mvalues\u001b[0m\u001b[1;33m(\u001b[0m\u001b[1;33m)\u001b[0m\u001b[1;33m:\u001b[0m\u001b[1;33m\u001b[0m\u001b[0m\n\u001b[0;32m    479\u001b[0m             \u001b[0mhook_result\u001b[0m \u001b[1;33m=\u001b[0m \u001b[0mhook\u001b[0m\u001b[1;33m(\u001b[0m\u001b[0mself\u001b[0m\u001b[1;33m,\u001b[0m \u001b[0minput\u001b[0m\u001b[1;33m,\u001b[0m \u001b[0mresult\u001b[0m\u001b[1;33m)\u001b[0m\u001b[1;33m\u001b[0m\u001b[0m\n",
      "\u001b[1;32mC:\\ProgramData\\Anaconda3\\lib\\site-packages\\torch\\nn\\modules\\conv.py\u001b[0m in \u001b[0;36mforward\u001b[1;34m(self, input)\u001b[0m\n\u001b[0;32m    299\u001b[0m     \u001b[1;32mdef\u001b[0m \u001b[0mforward\u001b[0m\u001b[1;33m(\u001b[0m\u001b[0mself\u001b[0m\u001b[1;33m,\u001b[0m \u001b[0minput\u001b[0m\u001b[1;33m)\u001b[0m\u001b[1;33m:\u001b[0m\u001b[1;33m\u001b[0m\u001b[0m\n\u001b[0;32m    300\u001b[0m         return F.conv2d(input, self.weight, self.bias, self.stride,\n\u001b[1;32m--> 301\u001b[1;33m                         self.padding, self.dilation, self.groups)\n\u001b[0m\u001b[0;32m    302\u001b[0m \u001b[1;33m\u001b[0m\u001b[0m\n\u001b[0;32m    303\u001b[0m \u001b[1;33m\u001b[0m\u001b[0m\n",
      "\u001b[1;31mRuntimeError\u001b[0m: Expected 4-dimensional input for 4-dimensional weight [10, 3, 5, 5], but got input of size [3, 64, 64] instead"
     ]
    }
   ],
   "source": [
    "#Test Image \n",
    "#fname = \"datasets/cat1.JPG\"  #LR is good\n",
    "#fname = \"datasets/cat3.JPG\"  #LR is bad\n",
    "#fname = \"datasets/cat4.JPG\"  #LR is good\n",
    "fname = \"datasets/cartoon_grump.JPG\"   #LR is bad\n",
    "#fname = \"datasets/puss.JPG\"   #LR is bad\n",
    "#fname = \"datasets/meandog.JPG\"  #LR is good\n",
    "#fname = \"datasets/puppy.JPG\"  #LR is good\n",
    "image = np.array(ndimage.imread(fname, flatten=False))\n",
    "resized_image = scipy.misc.imresize(image, size=(64,64))\n",
    "print (resized_image.shape)\n",
    "my_image = resized_image.reshape((3, 64, 64))\n",
    "print (my_image.shape)\n",
    "#my_image = resized_image.reshape((1, 64*64*3))\n",
    "pt_my_image = torch.from_numpy(my_image).float()\n",
    "\n",
    "\n",
    "print (\"The Algo says \" + str(model(pt_my_image)))\n",
    "plt.imshow(image)\n",
    "plt.show()\n",
    "plt.imshow(resized_image)"
   ]
  },
  {
   "cell_type": "code",
   "execution_count": 124,
   "metadata": {},
   "outputs": [
    {
     "name": "stdout",
     "output_type": "stream",
     "text": [
      "tensor([[[[-0.0273,  0.0262, -0.0619, -0.0418, -0.0847],\n",
      "          [ 0.0089,  0.0044,  0.0044,  0.0030, -0.0840],\n",
      "          [-0.0595,  0.1169, -0.0831, -0.0219,  0.0019],\n",
      "          [ 0.0445,  0.0499, -0.1139,  0.0533, -0.0240],\n",
      "          [-0.0540, -0.0332,  0.1138,  0.1172,  0.1129]],\n",
      "\n",
      "         [[ 0.0826, -0.1008, -0.0260, -0.1041,  0.1097],\n",
      "          [-0.0862, -0.1264,  0.0946,  0.1372, -0.0683],\n",
      "          [ 0.1247, -0.0406,  0.0443,  0.0125,  0.0332],\n",
      "          [ 0.0199, -0.0053, -0.0175, -0.0096, -0.0656],\n",
      "          [ 0.0847,  0.0112, -0.1066, -0.0561,  0.0469]],\n",
      "\n",
      "         [[ 0.0660, -0.0116,  0.1039, -0.0839,  0.0548],\n",
      "          [-0.1415,  0.0250,  0.1041, -0.0707, -0.0728],\n",
      "          [ 0.0848, -0.0043,  0.0682,  0.0346, -0.0664],\n",
      "          [-0.0728,  0.1190, -0.1115,  0.0690, -0.1153],\n",
      "          [-0.1393,  0.0593,  0.0864, -0.0342,  0.1139]]],\n",
      "\n",
      "\n",
      "        [[[ 0.2027,  0.0853,  0.2505,  0.1579,  0.0741],\n",
      "          [-0.1054, -0.1728, -0.0335, -0.1989, -0.1255],\n",
      "          [-0.0334, -0.0481, -0.0523,  0.1310, -0.1346],\n",
      "          [ 0.1070,  0.1716,  0.0931,  0.1295,  0.1670],\n",
      "          [-0.1036,  0.0635, -0.1003, -0.2020,  0.0324]],\n",
      "\n",
      "         [[-0.0686,  0.0419,  0.0410, -0.0188, -0.0203],\n",
      "          [-0.0378, -0.0799,  0.0308, -0.0338,  0.0542],\n",
      "          [ 0.0084,  0.0834,  0.0408, -0.0113,  0.0624],\n",
      "          [-0.0060,  0.1146,  0.0570, -0.0107,  0.1533],\n",
      "          [ 0.1355,  0.0819,  0.0795,  0.1587, -0.0395]],\n",
      "\n",
      "         [[ 0.1100, -0.0681, -0.0644, -0.0854, -0.0604],\n",
      "          [-0.0759, -0.0470,  0.0105, -0.1886, -0.1448],\n",
      "          [ 0.0551,  0.1088,  0.1501,  0.0250,  0.2182],\n",
      "          [-0.0371, -0.1580, -0.1296,  0.0081, -0.1065],\n",
      "          [-0.0731, -0.0206, -0.1053,  0.0147, -0.0911]]],\n",
      "\n",
      "\n",
      "        [[[ 0.1873, -0.1518,  0.1021,  0.1147, -0.1134],\n",
      "          [-0.0265,  0.1324, -0.0095, -0.1206, -0.0570],\n",
      "          [ 0.0458, -0.0160,  0.0067,  0.0017,  0.0552],\n",
      "          [ 0.1490, -0.1739, -0.0181,  0.2413, -0.2161],\n",
      "          [ 0.0704, -0.0705,  0.1562,  0.0972, -0.0663]],\n",
      "\n",
      "         [[-0.0857,  0.1278,  0.0563, -0.2415,  0.1719],\n",
      "          [-0.1004,  0.1943, -0.2763, -0.1387,  0.2128],\n",
      "          [ 0.1770, -0.0565, -0.1286,  0.1106, -0.0217],\n",
      "          [-0.2651,  0.1732,  0.1011, -0.1759,  0.1566],\n",
      "          [-0.1810,  0.2793, -0.1946, -0.0393,  0.2965]],\n",
      "\n",
      "         [[ 0.0144,  0.0139, -0.3962, -0.0802,  0.2006],\n",
      "          [ 0.1267, -0.0338,  0.1351, -0.0259,  0.0301],\n",
      "          [-0.1426, -0.0102,  0.1426, -0.0403,  0.0708],\n",
      "          [ 0.0020,  0.2205, -0.2922,  0.0634,  0.2395],\n",
      "          [ 0.0079, -0.1928, -0.0432, -0.0024,  0.0116]]],\n",
      "\n",
      "\n",
      "        [[[-0.0783,  0.0873,  0.1049,  0.0063, -0.0907],\n",
      "          [ 0.0479,  0.0036,  0.0779,  0.0807,  0.0835],\n",
      "          [ 0.0228,  0.0518,  0.0395,  0.1170, -0.0723],\n",
      "          [ 0.0691,  0.0383,  0.1265, -0.0580,  0.0132],\n",
      "          [ 0.0857, -0.1030,  0.0776, -0.0922, -0.0720]],\n",
      "\n",
      "         [[-0.0942,  0.0432, -0.0978, -0.0202,  0.1054],\n",
      "          [ 0.1546, -0.1215, -0.0761,  0.1400, -0.0885],\n",
      "          [-0.1011,  0.0735,  0.0105,  0.1048, -0.0205],\n",
      "          [ 0.0645, -0.0829,  0.0135, -0.0403,  0.1241],\n",
      "          [ 0.1183, -0.0599,  0.0454,  0.1129, -0.1702]],\n",
      "\n",
      "         [[-0.0304,  0.0842, -0.0324, -0.1864,  0.0936],\n",
      "          [ 0.1135,  0.0595, -0.1352, -0.0615,  0.0676],\n",
      "          [-0.1163, -0.1399,  0.0428,  0.0670, -0.0418],\n",
      "          [-0.1396,  0.1148,  0.1295, -0.1459,  0.0168],\n",
      "          [-0.0972, -0.0543,  0.0412,  0.0769, -0.1117]]],\n",
      "\n",
      "\n",
      "        [[[-0.0032, -0.1648, -0.0326,  0.0176, -0.0521],\n",
      "          [ 0.2100,  0.1122,  0.2481,  0.0428,  0.1819],\n",
      "          [-0.1293, -0.1455, -0.1126,  0.0763, -0.1156],\n",
      "          [-0.1549, -0.2179,  0.1280, -0.0776, -0.0749],\n",
      "          [ 0.2075,  0.2595,  0.1868,  0.0541,  0.2850]],\n",
      "\n",
      "         [[-0.1817, -0.0403,  0.0476, -0.0915,  0.0106],\n",
      "          [-0.1068, -0.0354, -0.1664, -0.0914, -0.0898],\n",
      "          [-0.1082, -0.1037,  0.0823,  0.0443,  0.0036],\n",
      "          [-0.0418, -0.0515,  0.0425, -0.1604,  0.0122],\n",
      "          [-0.0606, -0.0649, -0.1017, -0.1068, -0.1877]],\n",
      "\n",
      "         [[ 0.1804, -0.0570,  0.1248,  0.1444, -0.0326],\n",
      "          [-0.0795, -0.0446,  0.0746,  0.1401, -0.0388],\n",
      "          [ 0.1027,  0.1373,  0.0165, -0.0439, -0.0204],\n",
      "          [ 0.1811,  0.1523,  0.0732,  0.1267,  0.0446],\n",
      "          [-0.0498, -0.0455,  0.1415,  0.0969, -0.0312]]],\n",
      "\n",
      "\n",
      "        [[[-0.0815, -0.0886,  0.0062,  0.0923, -0.0169],\n",
      "          [ 0.0521, -0.1048, -0.0575, -0.1095, -0.1290],\n",
      "          [-0.0402,  0.1242, -0.0719, -0.1188, -0.0007],\n",
      "          [ 0.0767, -0.0327,  0.0066,  0.0728,  0.0313],\n",
      "          [ 0.0731, -0.0787,  0.0108,  0.0139, -0.0988]],\n",
      "\n",
      "         [[-0.0455,  0.0263,  0.1171,  0.0708,  0.0772],\n",
      "          [ 0.0202, -0.0678, -0.0731, -0.0036,  0.0652],\n",
      "          [-0.0376, -0.0278, -0.0057,  0.0223, -0.1128],\n",
      "          [ 0.0153,  0.1268,  0.0111,  0.0750,  0.0369],\n",
      "          [ 0.0583, -0.0351, -0.0577, -0.0437, -0.0474]],\n",
      "\n",
      "         [[ 0.0471,  0.0293, -0.0423,  0.0866, -0.0629],\n",
      "          [-0.0633,  0.0392,  0.0192, -0.0024,  0.1181],\n",
      "          [-0.0827,  0.0399,  0.1383,  0.0990,  0.1345],\n",
      "          [-0.0795,  0.0689, -0.0461, -0.0022, -0.0347],\n",
      "          [-0.0335, -0.0610, -0.0267, -0.0623, -0.0098]]],\n",
      "\n",
      "\n",
      "        [[[-0.1531, -0.2529, -0.0952, -0.1754, -0.2878],\n",
      "          [-0.0004,  0.0096,  0.0114, -0.0630,  0.0962],\n",
      "          [ 0.0668, -0.0119,  0.0539,  0.1808,  0.1396],\n",
      "          [-0.1592, -0.2463, -0.0063, -0.2284, -0.1614],\n",
      "          [ 0.0109,  0.1164,  0.0583,  0.0794,  0.2114]],\n",
      "\n",
      "         [[ 0.0545,  0.1055,  0.0105, -0.0227,  0.0348],\n",
      "          [ 0.1890,  0.0662, -0.0603,  0.1172,  0.0674],\n",
      "          [ 0.0160, -0.0606, -0.0701, -0.0047, -0.1920],\n",
      "          [-0.1375,  0.0282, -0.1300, -0.0950, -0.0701],\n",
      "          [ 0.1687,  0.1028,  0.0938,  0.1065,  0.0256]],\n",
      "\n",
      "         [[ 0.1761,  0.1314,  0.1149, -0.0117,  0.1149],\n",
      "          [ 0.0563,  0.0869,  0.0456,  0.0624,  0.0613],\n",
      "          [-0.0089, -0.1692, -0.1507, -0.1064, -0.0340],\n",
      "          [ 0.1294, -0.0013,  0.0078,  0.2108,  0.1693],\n",
      "          [ 0.0859, -0.0339,  0.0164,  0.0608,  0.1073]]],\n",
      "\n",
      "\n",
      "        [[[ 0.0738,  0.0321, -0.0309,  0.0949, -0.1237],\n",
      "          [ 0.0265, -0.0535,  0.0628,  0.0608, -0.0257],\n",
      "          [ 0.0804, -0.0258, -0.0429, -0.0811,  0.0005],\n",
      "          [ 0.1304,  0.0005, -0.1050,  0.0722, -0.1553],\n",
      "          [-0.0943,  0.1064, -0.1111, -0.1099,  0.1098]],\n",
      "\n",
      "         [[ 0.1808,  0.0028, -0.1324,  0.0352, -0.1398],\n",
      "          [ 0.1100,  0.0225, -0.1319,  0.1199, -0.1898],\n",
      "          [ 0.0059, -0.0627,  0.0005, -0.0931,  0.0813],\n",
      "          [ 0.0839,  0.0056, -0.0075,  0.0431, -0.1585],\n",
      "          [ 0.1394, -0.1767, -0.0147,  0.1760, -0.1396]],\n",
      "\n",
      "         [[ 0.1006,  0.1251, -0.0220,  0.0857, -0.0199],\n",
      "          [-0.0369, -0.0793, -0.1584, -0.0067, -0.0462],\n",
      "          [ 0.0166, -0.1380,  0.0636,  0.1622, -0.0853],\n",
      "          [-0.1137, -0.0033, -0.0866, -0.1267,  0.1197],\n",
      "          [ 0.1320,  0.0866, -0.0302,  0.1035,  0.1381]]],\n",
      "\n",
      "\n",
      "        [[[-0.1436,  0.0468, -0.1228, -0.0584,  0.0111],\n",
      "          [-0.0010, -0.1032, -0.0768,  0.0169, -0.0594],\n",
      "          [ 0.0146, -0.0762, -0.1330, -0.1491, -0.0452],\n",
      "          [ 0.0519, -0.0581, -0.0020,  0.0586, -0.1361],\n",
      "          [ 0.0578, -0.0361,  0.0857, -0.1081, -0.0637]],\n",
      "\n",
      "         [[ 0.0643,  0.0757, -0.0739,  0.0263,  0.1435],\n",
      "          [ 0.0226, -0.0592,  0.0089,  0.0971,  0.0667],\n",
      "          [ 0.0453,  0.1201,  0.1495,  0.0212,  0.0616],\n",
      "          [ 0.1161, -0.0250,  0.1024, -0.0597,  0.0621],\n",
      "          [ 0.1022,  0.1200,  0.1002,  0.0974, -0.0852]],\n",
      "\n",
      "         [[ 0.0756,  0.0918,  0.0242, -0.0138, -0.1193],\n",
      "          [ 0.1559, -0.1496, -0.0019,  0.0561, -0.0571],\n",
      "          [-0.1332, -0.0078,  0.0689,  0.0746,  0.0442],\n",
      "          [ 0.0173, -0.0259,  0.0577, -0.0763,  0.0874],\n",
      "          [ 0.1636, -0.1219,  0.0788,  0.1375,  0.0746]]],\n",
      "\n",
      "\n",
      "        [[[-0.1311,  0.1166, -0.0559, -0.0305, -0.0781],\n",
      "          [-0.0311,  0.0174,  0.0831, -0.1007,  0.0551],\n",
      "          [ 0.0229, -0.1150, -0.1186,  0.0998, -0.0575],\n",
      "          [-0.1260,  0.1085,  0.0463,  0.1096,  0.0590],\n",
      "          [-0.0949,  0.1049,  0.0550, -0.0742,  0.0433]],\n",
      "\n",
      "         [[-0.0431, -0.0911,  0.0104, -0.0235, -0.1277],\n",
      "          [ 0.1348,  0.1077, -0.0052,  0.1065,  0.0325],\n",
      "          [-0.1617,  0.0006, -0.1010, -0.1406, -0.0824],\n",
      "          [ 0.0049, -0.0183, -0.0325, -0.1508,  0.0457],\n",
      "          [-0.0692,  0.1415,  0.0045,  0.1002,  0.0967]],\n",
      "\n",
      "         [[-0.0074, -0.0503, -0.0859, -0.0984, -0.0101],\n",
      "          [-0.0711, -0.0013,  0.0544, -0.0066, -0.0547],\n",
      "          [ 0.0286, -0.0398,  0.0222,  0.1296, -0.0746],\n",
      "          [ 0.0000,  0.1051, -0.1254, -0.1362,  0.0887],\n",
      "          [ 0.1255,  0.0580, -0.0310, -0.0706,  0.0236]]]])\n",
      "tensor([-0.0432,  0.0850, -0.1761, -0.1518, -0.0584,  0.0257,  0.0655,  0.1112,\n",
      "         0.0854,  0.1617])\n",
      "tensor([[-9.0738e-03, -7.2557e-03, -1.2292e-03,  ...,  3.6407e-02,\n",
      "          2.5909e-02,  1.5706e-02]])\n",
      "tensor([0.0082])\n"
     ]
    }
   ],
   "source": [
    "for param in model.parameters():\n",
    "  print(param.data)"
   ]
  },
  {
   "cell_type": "code",
   "execution_count": null,
   "metadata": {},
   "outputs": [],
   "source": []
  },
  {
   "cell_type": "code",
   "execution_count": 125,
   "metadata": {},
   "outputs": [
    {
     "name": "stdout",
     "output_type": "stream",
     "text": [
      "<built-in method size of Tensor object at 0x000000000977F5A0>\n",
      "<built-in method size of Tensor object at 0x000000000977F5A0>\n",
      "<built-in method size of Tensor object at 0x000000000977F5A0>\n",
      "<built-in method size of Tensor object at 0x000000000977F5A0>\n"
     ]
    }
   ],
   "source": [
    "for param in model.parameters():\n",
    "  print(param.data.size)"
   ]
  },
  {
   "cell_type": "code",
   "execution_count": 126,
   "metadata": {},
   "outputs": [
    {
     "name": "stdout",
     "output_type": "stream",
     "text": [
      "<bound method Module.parameters of Net(\n",
      "  (conv1): Conv2d(3, 10, kernel_size=(5, 5), stride=(1, 1))\n",
      "  (mp): MaxPool2d(kernel_size=2, stride=2, padding=0, dilation=1, ceil_mode=False)\n",
      "  (fc): Linear(in_features=9000, out_features=1, bias=True)\n",
      "  (sigmoid): Sigmoid()\n",
      ")>\n"
     ]
    }
   ],
   "source": [
    "print (model.parameters)"
   ]
  },
  {
   "cell_type": "code",
   "execution_count": null,
   "metadata": {},
   "outputs": [],
   "source": []
  }
 ],
 "metadata": {
  "kernelspec": {
   "display_name": "Python 3",
   "language": "python",
   "name": "python3"
  },
  "language_info": {
   "codemirror_mode": {
    "name": "ipython",
    "version": 3
   },
   "file_extension": ".py",
   "mimetype": "text/x-python",
   "name": "python",
   "nbconvert_exporter": "python",
   "pygments_lexer": "ipython3",
   "version": "3.6.5"
  }
 },
 "nbformat": 4,
 "nbformat_minor": 2
}
