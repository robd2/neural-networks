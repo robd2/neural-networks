{
 "cells": [
  {
   "cell_type": "code",
   "execution_count": 2,
   "metadata": {},
   "outputs": [],
   "source": [
    "import torch\n",
    "from torch.autograd import Variable\n",
    "import torch.nn.functional as F\n",
    "import torch.nn as nn\n",
    "\n",
    "import numpy as np\n",
    "import matplotlib.pyplot as plt\n",
    "import h5py\n",
    "import scipy\n",
    "from PIL import Image\n",
    "from scipy import ndimage\n",
    "#from lr_utils import load_dataset\n",
    "\n",
    "%matplotlib inline"
   ]
  },
  {
   "cell_type": "code",
   "execution_count": 3,
   "metadata": {},
   "outputs": [],
   "source": [
    "def load_dataset():\n",
    "    train_dataset = h5py.File('datasets/train_catvnoncat.h5', \"r\")\n",
    "    train_set_x_orig = np.array(train_dataset[\"train_set_x\"][:]) # your train set features\n",
    "    train_set_y_orig = np.array(train_dataset[\"train_set_y\"][:]) # your train set labels\n",
    "\n",
    "    test_dataset = h5py.File('datasets/test_catvnoncat.h5', \"r\")\n",
    "    test_set_x_orig = np.array(test_dataset[\"test_set_x\"][:]) # your test set features\n",
    "    test_set_y_orig = np.array(test_dataset[\"test_set_y\"][:]) # your test set labels\n",
    "\n",
    "    classes = np.array(test_dataset[\"list_classes\"][:]) # the list of classes\n",
    "    \n",
    "    train_set_y_orig = train_set_y_orig.reshape((1, train_set_y_orig.shape[0]))\n",
    "    test_set_y_orig = test_set_y_orig.reshape((1, test_set_y_orig.shape[0]))\n",
    "    \n",
    "    return train_set_x_orig, train_set_y_orig, test_set_x_orig, test_set_y_orig, classes"
   ]
  },
  {
   "cell_type": "code",
   "execution_count": 59,
   "metadata": {},
   "outputs": [
    {
     "name": "stdout",
     "output_type": "stream",
     "text": [
      "Number of training examples: m_train = 209\n",
      "Number of testing examples: m_test = 50\n",
      "Height/Width of each image: num_px = 64\n",
      "Each image is of size: (64, 64, 3)\n",
      "train_set_x_orig shape: (209, 64, 64, 3)\n",
      "train_set_y shape: (1, 209)\n",
      "test_set_x_orig shape: (50, 64, 64, 3)\n",
      "test_set_y shape: (1, 50)\n"
     ]
    }
   ],
   "source": [
    "#Load Training Data\n",
    "train_set_x_orig, train_set_y, test_set_x_orig, test_set_y, classes = load_dataset()\n",
    "\n",
    "m_train = train_set_x_orig.shape[0]\n",
    "m_test = test_set_x_orig.shape[0]\n",
    "num_px = train_set_x_orig.shape[1]\n",
    "\n",
    "print (\"Number of training examples: m_train = \" + str(m_train))\n",
    "print (\"Number of testing examples: m_test = \" + str(m_test))\n",
    "print (\"Height/Width of each image: num_px = \" + str(num_px))\n",
    "print (\"Each image is of size: (\" + str(num_px) + \", \" + str(num_px) + \", 3)\")\n",
    "print (\"train_set_x_orig shape: \" + str(train_set_x_orig.shape))\n",
    "print (\"train_set_y shape: \" + str(train_set_y.shape))\n",
    "print (\"test_set_x_orig shape: \" + str(test_set_x_orig.shape))\n",
    "print (\"test_set_y shape: \" + str(test_set_y.shape))"
   ]
  },
  {
   "cell_type": "code",
   "execution_count": 60,
   "metadata": {},
   "outputs": [
    {
     "name": "stdout",
     "output_type": "stream",
     "text": [
      "y = [1], it's a 'cat' picture.\n"
     ]
    },
    {
     "data": {
      "image/png": "[encoded data removed]",
      "text/plain": [
       "<Figure size 432x288 with 1 Axes>"
      ]
     },
     "metadata": {},
     "output_type": "display_data"
    }
   ],
   "source": [
    "# Example of a picture\n",
    "index = 25\n",
    "plt.imshow(train_set_x_orig[index])\n",
    "\n",
    "\n",
    "print (\"y = \" + str(train_set_y[:, index]) + \", it's a '\" + classes[np.squeeze(train_set_y[:, index])].decode(\"utf-8\") +  \"' picture.\")"
   ]
  },
  {
   "cell_type": "code",
   "execution_count": 38,
   "metadata": {},
   "outputs": [
    {
     "name": "stdout",
     "output_type": "stream",
     "text": [
      "sanity check after reshaping: [ 17 196  82   1   9]\n",
      "train_set_x_orig shape: (209, 64, 64, 3)\n",
      "train_set_x_flatten shape: (209, 12288)\n"
     ]
    }
   ],
   "source": [
    "ooooooo\n",
    "\n",
    "train_set_x_flatten = train_set_x_orig.reshape(train_set_x_orig.shape[0], -1)\n",
    "print (\"sanity check after reshaping: \" + str(train_set_x_flatten[0:5,0]))\n",
    "\n",
    "print (\"train_set_x_orig shape: \" + str(train_set_x_orig.shape))\n",
    "print (\"train_set_x_flatten shape: \" + str(train_set_x_flatten.shape))\n",
    "#test_view = train_set_x_orig.view(12288, -1)\n",
    "#print (\"train_set_x_flatten shape: \" + str(train_set_x_flatten.shape))\n"
   ]
  },
  {
   "cell_type": "code",
   "execution_count": null,
   "metadata": {},
   "outputs": [],
   "source": []
  },
  {
   "cell_type": "code",
   "execution_count": 65,
   "metadata": {},
   "outputs": [
    {
     "name": "stdout",
     "output_type": "stream",
     "text": [
      "(209, 64, 64, 3)\n",
      "torch.Size([209, 3, 64, 64])\n",
      "(1, 209)\n",
      "torch.Size([1, 209])\n",
      "torch.FloatTensor\n",
      "torch.Size([50, 3, 64, 64])\n"
     ]
    }
   ],
   "source": [
    "#print (\"sanity check after reshaping: \" + str(train_set_x_orig[0:5,0]))\n",
    "train_set_x_orig = train_set_x_orig/255\n",
    "test_set_x_orig = test_set_x_orig/255\n",
    "#print (\"sanity check after reshaping: \" + str(train_set_x_orig[0:5,0]))\n",
    "\n",
    "#convert numpy arrays to torch tensors\n",
    "pt_train_set_x = torch.from_numpy(train_set_x_orig).float()\n",
    "pt_train_set_y = torch.from_numpy(train_set_y).float()\n",
    "pt_test_set_x = torch.from_numpy(test_set_x_orig).float()\n",
    "pt_test_set_y = torch.from_numpy(test_set_y).float()\n",
    "\n",
    "pt_train_set_x = pt_train_set_x.reshape(209,3,64,64)\n",
    "pt_test_set_x = pt_test_set_x.reshape (50,3,64,64)\n",
    "\n",
    "\n",
    "print (train_set_x_orig.shape)\n",
    "print (pt_train_set_x.shape)\n",
    "print (train_set_y.shape)\n",
    "print (pt_train_set_y.shape)\n",
    "print (pt_train_set_x.type())\n",
    "\n",
    "print (pt_test_set_x.shape)\n"
   ]
  },
  {
   "cell_type": "code",
   "execution_count": 66,
   "metadata": {},
   "outputs": [],
   "source": [
    "class Net(nn.Module):\n",
    "\n",
    "    def __init__(self):\n",
    "        super(Net, self).__init__()\n",
    "        #self.conv1 = nn.Conv2d(3, 10, kernel_size=5)\n",
    "        #self.conv2 = nn.Conv2d(10, 20, kernel_size=5)\n",
    "        #self.mp = nn.MaxPool2d(2)\n",
    "        #self.fc = nn.Linear(3380, 1)\n",
    "        self.fc = nn.Linear(12288, 1)\n",
    "        self.sigmoid = torch.nn.Sigmoid()\n",
    "\n",
    "    def forward(self, x):\n",
    "        in_size = x.size(0)\n",
    "        #print (\"in_size = \" + str (in_size))\n",
    "        #x = F.relu(self.mp(self.conv1(x)))\n",
    "        #x = F.relu(self.mp(self.conv2(x)))\n",
    "        x = x.view(in_size, -1)  # flatten the tensor\n",
    "        #print (x.shape)\n",
    "        #print (\"sanity check after reshaping: \" + str(x[0:5,0]))\n",
    "        \n",
    "        return self.sigmoid(self.fc(x))\n",
    "        \n",
    "    \n",
    "        #return F.log_softmax(x)\n",
    "        #return self.sigmoid(self.l3(out2))\n",
    "\n",
    "model = Net()\n",
    "\n",
    "#optimizer = optim.SGD(model.parameters(), lr=0.01, momentum=0.5)"
   ]
  },
  {
   "cell_type": "code",
   "execution_count": null,
   "metadata": {},
   "outputs": [],
   "source": []
  },
  {
   "cell_type": "code",
   "execution_count": 67,
   "metadata": {
    "scrolled": true
   },
   "outputs": [
    {
     "name": "stderr",
     "output_type": "stream",
     "text": [
      "C:\\ProgramData\\Anaconda3\\lib\\site-packages\\torch\\nn\\functional.py:52: UserWarning: size_average and reduce args will be deprecated, please use reduction='elementwise_mean' instead.\n",
      "  warnings.warn(warning.format(ret))\n"
     ]
    }
   ],
   "source": [
    "# Construct our loss function and an Optimizer. The call to model.parameters()\n",
    "# in the SGD constructor will contain the learnable parameters of the two\n",
    "# nn.Linear modules which are members of the model.\n",
    "criterion = torch.nn.BCELoss(size_average=True)\n",
    "#optimizer = torch.optim.SGD(model.parameters(), lr=0.01, momentum=0.5)\n",
    "optimizer = torch.optim.SGD(model.parameters(), lr=0.01)"
   ]
  },
  {
   "cell_type": "code",
   "execution_count": 68,
   "metadata": {},
   "outputs": [
    {
     "name": "stderr",
     "output_type": "stream",
     "text": [
      "C:\\ProgramData\\Anaconda3\\lib\\site-packages\\torch\\nn\\functional.py:1594: UserWarning: Using a target size (torch.Size([1, 209])) that is different to the input size (torch.Size([209, 1])) is deprecated. Please ensure they have the same size.\n",
      "  \"Please ensure they have the same size.\".format(target.size(), input.size()))\n",
      "C:\\ProgramData\\Anaconda3\\lib\\site-packages\\ipykernel_launcher.py:25: UserWarning: invalid index of a 0-dim tensor. This will be an error in PyTorch 0.5. Use tensor.item() to convert a 0-dim tensor to a Python number\n",
      "C:\\ProgramData\\Anaconda3\\lib\\site-packages\\ipykernel_launcher.py:26: UserWarning: invalid index of a 0-dim tensor. This will be an error in PyTorch 0.5. Use tensor.item() to convert a 0-dim tensor to a Python number\n"
     ]
    },
    {
     "name": "stdout",
     "output_type": "stream",
     "text": [
      "0 tensor(0.6545)\n",
      "10 tensor(1.8153)\n",
      "20 tensor(2.9677)\n",
      "30 tensor(1.9751)\n",
      "40 tensor(0.6191)\n",
      "50 tensor(2.7811)\n",
      "60 tensor(1.9450)\n",
      "70 tensor(0.6243)\n",
      "80 tensor(0.4542)\n",
      "90 tensor(0.4309)\n",
      "100 tensor(2.4484)\n",
      "110 tensor(0.4056)\n",
      "120 tensor(2.3265)\n",
      "130 tensor(0.9804)\n",
      "140 tensor(0.4125)\n",
      "150 tensor(0.4151)\n",
      "160 tensor(0.4983)\n",
      "170 tensor(1.7950)\n",
      "180 tensor(0.7507)\n",
      "190 tensor(1.9161)\n",
      "200 tensor(0.6367)\n",
      "210 tensor(1.7619)\n",
      "220 tensor(0.7339)\n",
      "230 tensor(1.6390)\n",
      "240 tensor(0.8084)\n",
      "250 tensor(1.4865)\n",
      "260 tensor(0.9026)\n",
      "270 tensor(1.3016)\n",
      "280 tensor(0.9992)\n",
      "290 tensor(1.1135)\n",
      "300 tensor(1.0218)\n",
      "310 tensor(1.0028)\n",
      "320 tensor(0.9664)\n",
      "330 tensor(0.9337)\n",
      "340 tensor(0.9015)\n",
      "350 tensor(0.8700)\n",
      "360 tensor(0.8392)\n",
      "370 tensor(0.8090)\n",
      "380 tensor(0.7795)\n",
      "390 tensor(0.7506)\n",
      "400 tensor(0.7223)\n",
      "410 tensor(0.6945)\n",
      "420 tensor(0.6673)\n",
      "430 tensor(0.6404)\n",
      "440 tensor(0.6140)\n",
      "450 tensor(0.5879)\n",
      "460 tensor(0.5622)\n",
      "470 tensor(0.5368)\n",
      "480 tensor(0.5117)\n",
      "490 tensor(0.4869)\n",
      "500 tensor(0.4625)\n",
      "510 tensor(0.4384)\n",
      "520 tensor(0.4148)\n",
      "530 tensor(0.3917)\n",
      "540 tensor(0.3692)\n",
      "550 tensor(0.3475)\n",
      "560 tensor(0.3265)\n",
      "570 tensor(0.3064)\n",
      "580 tensor(0.2873)\n",
      "590 tensor(0.2693)\n",
      "600 tensor(0.2523)\n",
      "610 tensor(0.2364)\n",
      "620 tensor(0.2217)\n",
      "630 tensor(0.2084)\n",
      "640 tensor(0.1965)\n",
      "650 tensor(0.1862)\n",
      "660 tensor(0.1775)\n",
      "670 tensor(0.1702)\n",
      "680 tensor(0.1642)\n",
      "690 tensor(0.1593)\n",
      "700 tensor(0.1552)\n",
      "710 tensor(0.1518)\n",
      "720 tensor(0.1489)\n",
      "730 tensor(0.1465)\n",
      "740 tensor(0.1443)\n",
      "750 tensor(0.1425)\n",
      "760 tensor(0.1408)\n",
      "770 tensor(0.1393)\n",
      "780 tensor(0.1379)\n",
      "790 tensor(0.1367)\n",
      "800 tensor(0.1354)\n",
      "810 tensor(0.1343)\n",
      "820 tensor(0.1331)\n",
      "830 tensor(0.1320)\n",
      "840 tensor(0.1310)\n",
      "850 tensor(0.1299)\n",
      "860 tensor(0.1289)\n",
      "870 tensor(0.1279)\n",
      "880 tensor(0.1269)\n",
      "890 tensor(0.1260)\n",
      "900 tensor(0.1250)\n",
      "910 tensor(0.1241)\n",
      "920 tensor(0.1232)\n",
      "930 tensor(0.1223)\n",
      "940 tensor(0.1215)\n",
      "950 tensor(0.1206)\n",
      "960 tensor(0.1198)\n",
      "970 tensor(0.1189)\n",
      "980 tensor(0.1181)\n",
      "990 tensor(0.1173)\n"
     ]
    }
   ],
   "source": [
    "# Training loop\n",
    "\n",
    "#Log some data\n",
    "costs = []\n",
    "train_acc = []\n",
    "test_acc = []\n",
    "\n",
    "#Train\n",
    "for epoch in range(1000):\n",
    "    # Forward pass: Compute predicted y by passing x to the model\n",
    "    y_pred = model(pt_train_set_x)\n",
    "\n",
    "    # Compute and print loss\n",
    "    loss = criterion(y_pred, pt_train_set_y)\n",
    "\n",
    "        \n",
    "    # Zero gradients, perform a backward pass, and update the weights.\n",
    "    optimizer.zero_grad()\n",
    "    loss.backward()\n",
    "    optimizer.step()\n",
    "    \n",
    "    \n",
    "    # Record Metrics\n",
    "    if epoch % 10 == 0:\n",
    "        print(epoch, loss.data[0])\n",
    "        costs.append(loss.data[0])\n",
    "        \n",
    "        #Record Accuracy\n",
    "        temp_acc_train = accuracy(pt_train_set_x, train_set_y)\n",
    "        train_acc.append(temp_acc_train)\n",
    "    \n",
    "        temp_acc_test = accuracy(pt_test_set_x, test_set_y)\n",
    "        test_acc.append(temp_acc_test)\n",
    "        "
   ]
  },
  {
   "cell_type": "code",
   "execution_count": null,
   "metadata": {},
   "outputs": [],
   "source": []
  },
  {
   "cell_type": "code",
   "execution_count": 69,
   "metadata": {},
   "outputs": [
    {
     "data": {
      "image/png": "[encoded data removed]",
      "text/plain": [
       "<Figure size 432x288 with 1 Axes>"
      ]
     },
     "metadata": {},
     "output_type": "display_data"
    },
    {
     "data": {
      "image/png": "[encoded data removed]",
      "text/plain": [
       "<Figure size 432x288 with 1 Axes>"
      ]
     },
     "metadata": {},
     "output_type": "display_data"
    }
   ],
   "source": [
    "# Plots\n",
    "\n",
    "# Plot loss over time# Plot  \n",
    "plt.plot(costs, 'k-')\n",
    "plt.title('Cross Entropy Loss per Generation')\n",
    "plt.xlabel('Epoch')\n",
    "plt.ylabel('Cross Entropy Loss')\n",
    "plt.show()\n",
    "\n",
    "# Plot train and test accuracy\n",
    "plt.plot(train_acc, 'k-', label='Train Set Accuracy')\n",
    "plt.plot(test_acc, 'r--', label='Test Set Accuracy')\n",
    "plt.title('Train and Test Accuracy')\n",
    "plt.xlabel('Epoch')\n",
    "plt.ylabel('Accuracy')\n",
    "plt.legend(loc='lower right')\n",
    "plt.show()"
   ]
  },
  {
   "cell_type": "code",
   "execution_count": 55,
   "metadata": {},
   "outputs": [
    {
     "name": "stdout",
     "output_type": "stream",
     "text": [
      "train set accuracy = 0.9856459330143541\n",
      "test set accuracy = 0.7\n"
     ]
    }
   ],
   "source": [
    "# Train and Test Set Predictions\n",
    "print (\"train set accuracy = \" + str (accuracy(pt_train_set_x,train_set_y)))\n",
    "print (\"test set accuracy = \" + str (accuracy(pt_test_set_x,test_set_y)))\n"
   ]
  },
  {
   "cell_type": "code",
   "execution_count": null,
   "metadata": {},
   "outputs": [],
   "source": [
    "print (prediction)"
   ]
  },
  {
   "cell_type": "code",
   "execution_count": 13,
   "metadata": {},
   "outputs": [],
   "source": [
    "def accuracy(X, Y):\n",
    "    \"\"\"\n",
    "    This function is used to measure accuracy of the model.\n",
    "    \n",
    "    Arguments:\n",
    "    X -- data set of examples you would like to label\n",
    "    Y -- labels\n",
    "    \n",
    "    Returns:\n",
    "    p -- predictions for the given dataset X\n",
    "    \"\"\"\n",
    "    \n",
    "    prediction = model(X)\n",
    "    np_prediction = np.round(prediction.detach().numpy())\n",
    "    predictions_correct = np.equal(np_prediction, Y.T)\n",
    "    p = np.mean(predictions_correct)\n",
    "        \n",
    "    return p"
   ]
  },
  {
   "cell_type": "code",
   "execution_count": null,
   "metadata": {},
   "outputs": [],
   "source": []
  },
  {
   "cell_type": "code",
   "execution_count": null,
   "metadata": {},
   "outputs": [],
   "source": [
    "#Test Image \n",
    "#fname = \"datasets/cat1.JPG\"  #LR is good\n",
    "#fname = \"datasets/cat3.JPG\"  #LR is bad\n",
    "#fname = \"datasets/cat4.JPG\"  #LR is good\n",
    "fname = \"datasets/cartoon_grump.JPG\"   #LR is bad\n",
    "#fname = \"datasets/puss.JPG\"   #LR is bad\n",
    "#fname = \"datasets/meandog.JPG\"  #LR is good\n",
    "#fname = \"datasets/puppy.JPG\"  #LR is good\n",
    "image = np.array(ndimage.imread(fname, flatten=False))\n",
    "resized_image = scipy.misc.imresize(image, size=(64,64))\n",
    "my_image = resized_image.reshape((1, 64*64*3))\n",
    "pt_my_image = torch.from_numpy(my_image).float()\n",
    "\n",
    "\n",
    "print (\"The Algo says \" + str(model(pt_my_image)))\n",
    "plt.imshow(image)\n",
    "plt.show()\n",
    "plt.imshow(resized_image)"
   ]
  },
  {
   "cell_type": "code",
   "execution_count": null,
   "metadata": {},
   "outputs": [],
   "source": [
    "for param in model.parameters():\n",
    "  print(param.data)"
   ]
  },
  {
   "cell_type": "code",
   "execution_count": null,
   "metadata": {},
   "outputs": [],
   "source": []
  },
  {
   "cell_type": "code",
   "execution_count": null,
   "metadata": {},
   "outputs": [],
   "source": [
    "NEXT\n",
    "1. need to double check shapes on this one"
   ]
  }
 ],
 "metadata": {
  "kernelspec": {
   "display_name": "Python 3",
   "language": "python",
   "name": "python3"
  },
  "language_info": {
   "codemirror_mode": {
    "name": "ipython",
    "version": 3
   },
   "file_extension": ".py",
   "mimetype": "text/x-python",
   "name": "python",
   "nbconvert_exporter": "python",
   "pygments_lexer": "ipython3",
   "version": "3.6.5"
  }
 },
 "nbformat": 4,
 "nbformat_minor": 2
}
