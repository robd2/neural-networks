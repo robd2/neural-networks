{
 "cells": [
  {
   "cell_type": "code",
   "execution_count": 1,
   "metadata": {},
   "outputs": [
    {
     "name": "stderr",
     "output_type": "stream",
     "text": [
      "C:\\ProgramData\\Anaconda3\\lib\\site-packages\\h5py\\__init__.py:36: FutureWarning: Conversion of the second argument of issubdtype from `float` to `np.floating` is deprecated. In future, it will be treated as `np.float64 == np.dtype(float).type`.\n",
      "  from ._conv import register_converters as _register_converters\n"
     ]
    }
   ],
   "source": [
    "import torch\n",
    "from torch.autograd import Variable\n",
    "import torch.nn.functional as F\n",
    "\n",
    "import numpy as np\n",
    "import matplotlib.pyplot as plt\n",
    "import h5py\n",
    "import scipy\n",
    "from PIL import Image\n",
    "from scipy import ndimage\n",
    "#from lr_utils import load_dataset\n",
    "\n",
    "%matplotlib inline"
   ]
  },
  {
   "cell_type": "code",
   "execution_count": 2,
   "metadata": {},
   "outputs": [],
   "source": [
    "def load_dataset():\n",
    "    train_dataset = h5py.File('datasets/train_catvnoncat.h5', \"r\")\n",
    "    train_set_x_orig = np.array(train_dataset[\"train_set_x\"][:]) # your train set features\n",
    "    train_set_y_orig = np.array(train_dataset[\"train_set_y\"][:]) # your train set labels\n",
    "\n",
    "    test_dataset = h5py.File('datasets/test_catvnoncat.h5', \"r\")\n",
    "    test_set_x_orig = np.array(test_dataset[\"test_set_x\"][:]) # your test set features\n",
    "    test_set_y_orig = np.array(test_dataset[\"test_set_y\"][:]) # your test set labels\n",
    "\n",
    "    classes = np.array(test_dataset[\"list_classes\"][:]) # the list of classes\n",
    "    \n",
    "    train_set_y_orig = train_set_y_orig.reshape((1, train_set_y_orig.shape[0]))\n",
    "    test_set_y_orig = test_set_y_orig.reshape((1, test_set_y_orig.shape[0]))\n",
    "    \n",
    "    return train_set_x_orig, train_set_y_orig, test_set_x_orig, test_set_y_orig, classes"
   ]
  },
  {
   "cell_type": "code",
   "execution_count": 3,
   "metadata": {},
   "outputs": [
    {
     "name": "stdout",
     "output_type": "stream",
     "text": [
      "Number of training examples: m_train = 209\n",
      "Number of testing examples: m_test = 50\n",
      "Height/Width of each image: num_px = 64\n",
      "Each image is of size: (64, 64, 3)\n",
      "train_set_x_orig shape: (209, 64, 64, 3)\n",
      "train_set_y shape: (1, 209)\n",
      "test_set_x_orig shape: (50, 64, 64, 3)\n",
      "test_set_y shape: (1, 50)\n"
     ]
    }
   ],
   "source": [
    "#Load Training Data\n",
    "train_set_x_orig, train_set_y, test_set_x_orig, test_set_y, classes = load_dataset()\n",
    "\n",
    "m_train = train_set_x_orig.shape[0]\n",
    "m_test = test_set_x_orig.shape[0]\n",
    "num_px = train_set_x_orig.shape[1]\n",
    "\n",
    "print (\"Number of training examples: m_train = \" + str(m_train))\n",
    "print (\"Number of testing examples: m_test = \" + str(m_test))\n",
    "print (\"Height/Width of each image: num_px = \" + str(num_px))\n",
    "print (\"Each image is of size: (\" + str(num_px) + \", \" + str(num_px) + \", 3)\")\n",
    "print (\"train_set_x_orig shape: \" + str(train_set_x_orig.shape))\n",
    "print (\"train_set_y shape: \" + str(train_set_y.shape))\n",
    "print (\"test_set_x_orig shape: \" + str(test_set_x_orig.shape))\n",
    "print (\"test_set_y shape: \" + str(test_set_y.shape))"
   ]
  },
  {
   "cell_type": "code",
   "execution_count": 4,
   "metadata": {},
   "outputs": [
    {
     "name": "stdout",
     "output_type": "stream",
     "text": [
      "y = [1], it's a 'cat' picture.\n"
     ]
    },
    {
     "data": {
      "image/png": "[encoded data removed]",
      "text/plain": [
       "<Figure size 432x288 with 1 Axes>"
      ]
     },
     "metadata": {},
     "output_type": "display_data"
    }
   ],
   "source": [
    "# Example of a picture\n",
    "index = 25\n",
    "plt.imshow(train_set_x_orig[index])\n",
    "print (\"y = \" + str(train_set_y[:, index]) + \", it's a '\" + classes[np.squeeze(train_set_y[:, index])].decode(\"utf-8\") +  \"' picture.\")"
   ]
  },
  {
   "cell_type": "code",
   "execution_count": 5,
   "metadata": {},
   "outputs": [
    {
     "name": "stdout",
     "output_type": "stream",
     "text": [
      "train_set_x shape: (209, 12288)\n",
      "train_set_y shape: (1, 209)\n",
      "test_set_x shape: (50, 12288)\n",
      "test_set_y shape: (1, 50)\n",
      "sanity check after reshaping: [ 17 196  82   1   9]\n",
      "sanity check after reshaping: [0.06666667 0.76862745 0.32156863 0.00392157 0.03529412]\n"
     ]
    }
   ],
   "source": [
    "# Reshape the training and test examples\n",
    "train_set_x_flatten = train_set_x_orig.reshape(train_set_x_orig.shape[0], -1)\n",
    "test_set_x_flatten = test_set_x_orig.reshape(test_set_x_orig.shape[0], -1)\n",
    "\n",
    "#standardize our dataset\n",
    "#see lab 1 notes for more info\n",
    "train_set_x = train_set_x_flatten/255\n",
    "test_set_x = test_set_x_flatten/255\n",
    "\n",
    "print (\"train_set_x shape: \" + str(train_set_x.shape))\n",
    "print (\"train_set_y shape: \" + str(train_set_y.shape))\n",
    "print (\"test_set_x shape: \" + str(test_set_x.shape))\n",
    "print (\"test_set_y shape: \" + str(test_set_y.shape))\n",
    "print (\"sanity check after reshaping: \" + str(train_set_x_flatten[0:5,0]))\n",
    "print (\"sanity check after reshaping: \" + str(train_set_x[0:5,0]))\n",
    "\n",
    "#Old\n",
    "#train_set_x shape: (12288, 209)\n",
    "#test_set_x shape: (12288, 50)"
   ]
  },
  {
   "cell_type": "code",
   "execution_count": 6,
   "metadata": {},
   "outputs": [
    {
     "name": "stdout",
     "output_type": "stream",
     "text": [
      "(209, 12288)\n",
      "torch.Size([209, 12288])\n",
      "(1, 209)\n",
      "torch.Size([1, 209])\n",
      "torch.FloatTensor\n"
     ]
    }
   ],
   "source": [
    "#convert numpy arrays to torch tensors\n",
    "pt_train_set_x = torch.from_numpy(train_set_x).float()\n",
    "pt_train_set_y = torch.from_numpy(train_set_y).float()\n",
    "pt_test_set_x = torch.from_numpy(test_set_x).float()\n",
    "pt_test_set_y = torch.from_numpy(test_set_y).float()\n",
    "\n",
    "\n",
    "print (train_set_x.shape)\n",
    "print (pt_train_set_x.shape)\n",
    "print (train_set_y.shape)\n",
    "print (pt_train_set_y.shape)\n",
    "print (pt_train_set_x.type())\n"
   ]
  },
  {
   "cell_type": "code",
   "execution_count": 17,
   "metadata": {},
   "outputs": [],
   "source": [
    "class Model(torch.nn.Module):\n",
    "\n",
    "    def __init__(self):\n",
    "        \"\"\"\n",
    "        In the constructor we instantiate nn.Linear module\n",
    "        \"\"\"\n",
    "        super(Model, self).__init__()\n",
    "        self.l1 = torch.nn.Linear(12288, 6)\n",
    "        self.l2 = torch.nn.Linear(6, 4)\n",
    "        self.l3 = torch.nn.Linear(4, 1)\n",
    "\n",
    "        self.sigmoid = torch.nn.Sigmoid()\n",
    "        self.ReLU = torch.nn.ReLU()\n",
    "\n",
    "    def forward(self, x):\n",
    "        \"\"\"\n",
    "        In the forward function we accept a Variable of input data and we must return\n",
    "        a Variable of output data. We can use Modules defined in the constructor as\n",
    "        well as arbitrary operators on Variables.\n",
    "        \"\"\"\n",
    "        out1 = self.ReLU(self.l1(x))\n",
    "        out2 = self.ReLU(self.l2(out1))\n",
    "        y_pred = self.sigmoid(self.l3(out2))\n",
    "        return y_pred\n",
    "\n",
    "# our model\n",
    "model = Model()"
   ]
  },
  {
   "cell_type": "code",
   "execution_count": null,
   "metadata": {},
   "outputs": [],
   "source": []
  },
  {
   "cell_type": "code",
   "execution_count": 18,
   "metadata": {
    "scrolled": true
   },
   "outputs": [
    {
     "name": "stderr",
     "output_type": "stream",
     "text": [
      "C:\\ProgramData\\Anaconda3\\lib\\site-packages\\torch\\nn\\functional.py:52: UserWarning: size_average and reduce args will be deprecated, please use reduction='elementwise_mean' instead.\n",
      "  warnings.warn(warning.format(ret))\n"
     ]
    }
   ],
   "source": [
    "# Construct our loss function and an Optimizer. The call to model.parameters()\n",
    "# in the SGD constructor will contain the learnable parameters of the two\n",
    "# nn.Linear modules which are members of the model.\n",
    "criterion = torch.nn.BCELoss(size_average=True)\n",
    "optimizer = torch.optim.SGD(model.parameters(), lr=0.01)"
   ]
  },
  {
   "cell_type": "code",
   "execution_count": 23,
   "metadata": {},
   "outputs": [
    {
     "name": "stderr",
     "output_type": "stream",
     "text": [
      "C:\\ProgramData\\Anaconda3\\lib\\site-packages\\torch\\nn\\functional.py:1594: UserWarning: Using a target size (torch.Size([1, 209])) that is different to the input size (torch.Size([209, 1])) is deprecated. Please ensure they have the same size.\n",
      "  \"Please ensure they have the same size.\".format(target.size(), input.size()))\n",
      "C:\\ProgramData\\Anaconda3\\lib\\site-packages\\ipykernel_launcher.py:25: UserWarning: invalid index of a 0-dim tensor. This will be an error in PyTorch 0.5. Use tensor.item() to convert a 0-dim tensor to a Python number\n",
      "C:\\ProgramData\\Anaconda3\\lib\\site-packages\\ipykernel_launcher.py:26: UserWarning: invalid index of a 0-dim tensor. This will be an error in PyTorch 0.5. Use tensor.item() to convert a 0-dim tensor to a Python number\n"
     ]
    },
    {
     "name": "stdout",
     "output_type": "stream",
     "text": [
      "0 tensor(0.0701)\n",
      "10 tensor(0.0702)\n",
      "20 tensor(0.0692)\n",
      "30 tensor(0.0673)\n",
      "40 tensor(0.0645)\n",
      "50 tensor(0.0616)\n",
      "60 tensor(0.0599)\n",
      "70 tensor(0.0585)\n",
      "80 tensor(0.0573)\n",
      "90 tensor(0.0561)\n",
      "100 tensor(0.0549)\n",
      "110 tensor(0.0539)\n",
      "120 tensor(0.0527)\n",
      "130 tensor(0.0517)\n",
      "140 tensor(0.0508)\n",
      "150 tensor(0.0500)\n",
      "160 tensor(0.0489)\n",
      "170 tensor(0.0481)\n",
      "180 tensor(0.0472)\n",
      "190 tensor(0.0463)\n",
      "200 tensor(0.0456)\n",
      "210 tensor(0.0448)\n",
      "220 tensor(0.0440)\n",
      "230 tensor(0.0433)\n",
      "240 tensor(0.0426)\n",
      "250 tensor(0.0420)\n",
      "260 tensor(0.0412)\n",
      "270 tensor(0.0406)\n",
      "280 tensor(0.0400)\n",
      "290 tensor(0.0393)\n",
      "300 tensor(0.0388)\n",
      "310 tensor(0.0382)\n",
      "320 tensor(0.0376)\n",
      "330 tensor(0.0370)\n",
      "340 tensor(0.0365)\n",
      "350 tensor(0.0360)\n",
      "360 tensor(0.0354)\n",
      "370 tensor(0.0349)\n",
      "380 tensor(0.0344)\n",
      "390 tensor(0.0339)\n",
      "400 tensor(0.0334)\n",
      "410 tensor(0.0330)\n",
      "420 tensor(0.0325)\n",
      "430 tensor(0.0321)\n",
      "440 tensor(0.0316)\n",
      "450 tensor(0.0312)\n",
      "460 tensor(0.0307)\n",
      "470 tensor(0.0303)\n",
      "480 tensor(0.0299)\n",
      "490 tensor(0.0295)\n",
      "500 tensor(0.0291)\n",
      "510 tensor(0.0287)\n",
      "520 tensor(0.0283)\n",
      "530 tensor(0.0279)\n",
      "540 tensor(0.0276)\n",
      "550 tensor(0.0272)\n",
      "560 tensor(0.0268)\n",
      "570 tensor(0.0264)\n",
      "580 tensor(0.0261)\n",
      "590 tensor(0.0258)\n",
      "600 tensor(0.0254)\n",
      "610 tensor(0.0251)\n",
      "620 tensor(0.0248)\n",
      "630 tensor(0.0245)\n",
      "640 tensor(0.0242)\n",
      "650 tensor(0.0239)\n",
      "660 tensor(0.0236)\n",
      "670 tensor(0.0232)\n",
      "680 tensor(0.0230)\n",
      "690 tensor(0.0227)\n",
      "700 tensor(0.0224)\n",
      "710 tensor(0.0221)\n",
      "720 tensor(0.0218)\n",
      "730 tensor(0.0216)\n",
      "740 tensor(0.0211)\n",
      "750 tensor(0.0208)\n",
      "760 tensor(0.0204)\n",
      "770 tensor(0.0200)\n",
      "780 tensor(0.0197)\n",
      "790 tensor(0.0193)\n",
      "800 tensor(0.0190)\n",
      "810 tensor(0.0187)\n",
      "820 tensor(0.0177)\n",
      "830 tensor(0.0168)\n",
      "840 tensor(0.0160)\n",
      "850 tensor(0.0154)\n",
      "860 tensor(0.0149)\n",
      "870 tensor(0.0145)\n",
      "880 tensor(0.0141)\n",
      "890 tensor(0.0137)\n",
      "900 tensor(0.0134)\n",
      "910 tensor(0.0131)\n",
      "920 tensor(0.0128)\n",
      "930 tensor(0.0125)\n",
      "940 tensor(0.0123)\n",
      "950 tensor(0.0120)\n",
      "960 tensor(0.0118)\n",
      "970 tensor(0.0116)\n",
      "980 tensor(0.0113)\n",
      "990 tensor(0.0111)\n"
     ]
    }
   ],
   "source": [
    "# Training loop\n",
    "\n",
    "#Log some data\n",
    "#costs = []\n",
    "#train_acc = []\n",
    "#test_acc = []\n",
    "\n",
    "#Train\n",
    "for epoch in range(1000):\n",
    "    # Forward pass: Compute predicted y by passing x to the model\n",
    "    y_pred = model(pt_train_set_x)\n",
    "\n",
    "    # Compute and print loss\n",
    "    loss = criterion(y_pred, pt_train_set_y)\n",
    "\n",
    "        \n",
    "    # Zero gradients, perform a backward pass, and update the weights.\n",
    "    optimizer.zero_grad()\n",
    "    loss.backward()\n",
    "    optimizer.step()\n",
    "    \n",
    "    \n",
    "    # Record Metrics\n",
    "    if epoch % 10 == 0:\n",
    "        print(epoch, loss.data[0])\n",
    "        costs.append(loss.data[0])\n",
    "        \n",
    "        #Record Accuracy\n",
    "        temp_acc_train = accuracy(pt_train_set_x, train_set_y)\n",
    "        train_acc.append(temp_acc_train)\n",
    "    \n",
    "        temp_acc_test = accuracy(pt_test_set_x, test_set_y)\n",
    "        test_acc.append(temp_acc_test)\n",
    "        "
   ]
  },
  {
   "cell_type": "code",
   "execution_count": 24,
   "metadata": {},
   "outputs": [
    {
     "data": {
      "image/png": "[encoded data removed]",
      "text/plain": [
       "<Figure size 432x288 with 1 Axes>"
      ]
     },
     "metadata": {},
     "output_type": "display_data"
    },
    {
     "data": {
      "image/png": "[encoded data removed]",
      "text/plain": [
       "<Figure size 432x288 with 1 Axes>"
      ]
     },
     "metadata": {},
     "output_type": "display_data"
    }
   ],
   "source": [
    "# Plots\n",
    "\n",
    "# Plot loss over time# Plot  \n",
    "plt.plot(costs, 'k-')\n",
    "plt.title('Cross Entropy Loss per Generation')\n",
    "plt.xlabel('Epoch')\n",
    "plt.ylabel('Cross Entropy Loss')\n",
    "plt.show()\n",
    "\n",
    "# Plot train and test accuracy\n",
    "plt.plot(train_acc, 'k-', label='Train Set Accuracy')\n",
    "plt.plot(test_acc, 'r--', label='Test Set Accuracy')\n",
    "plt.title('Train and Test Accuracy')\n",
    "plt.xlabel('Epoch')\n",
    "plt.ylabel('Accuracy')\n",
    "plt.legend(loc='lower right')\n",
    "plt.show()\n",
    "    "
   ]
  },
  {
   "cell_type": "code",
   "execution_count": 25,
   "metadata": {},
   "outputs": [
    {
     "name": "stdout",
     "output_type": "stream",
     "text": [
      "train set accuracy = 1.0\n",
      "test set accuracy = 0.64\n"
     ]
    }
   ],
   "source": [
    "# Train and Test Set Predictions\n",
    "print (\"train set accuracy = \" + str (accuracy(pt_train_set_x,train_set_y)))\n",
    "print (\"test set accuracy = \" + str (accuracy(pt_test_set_x,test_set_y)))\n"
   ]
  },
  {
   "cell_type": "code",
   "execution_count": 81,
   "metadata": {},
   "outputs": [
    {
     "name": "stdout",
     "output_type": "stream",
     "text": [
      "tensor([[0.1822],\n",
      "        [0.0798],\n",
      "        [0.9233],\n",
      "        [0.0001],\n",
      "        [0.0302],\n",
      "        [0.0907],\n",
      "        [0.0297],\n",
      "        [0.9439],\n",
      "        [0.0636],\n",
      "        [0.0305],\n",
      "        [0.1028],\n",
      "        [0.7992],\n",
      "        [0.1973],\n",
      "        [0.9645],\n",
      "        [0.7577],\n",
      "        [0.0259],\n",
      "        [0.0097],\n",
      "        [0.0313],\n",
      "        [0.0690],\n",
      "        [0.9368],\n",
      "        [0.0064],\n",
      "        [0.0492],\n",
      "        [0.1567],\n",
      "        [0.0185],\n",
      "        [0.9207],\n",
      "        [0.8486],\n",
      "        [0.0402],\n",
      "        [0.8830],\n",
      "        [0.0384],\n",
      "        [0.7667],\n",
      "        [0.0939],\n",
      "        [0.0583],\n",
      "        [0.1740],\n",
      "        [0.1850],\n",
      "        [0.0855],\n",
      "        [0.0191],\n",
      "        [0.0075],\n",
      "        [0.0301],\n",
      "        [0.8469],\n",
      "        [0.3542],\n",
      "        [0.0105],\n",
      "        [0.4482],\n",
      "        [0.8550],\n",
      "        [0.0224],\n",
      "        [0.0347],\n",
      "        [0.1049],\n",
      "        [0.0674],\n",
      "        [0.8393],\n",
      "        [0.0074],\n",
      "        [0.0202],\n",
      "        [0.7905],\n",
      "        [0.2449],\n",
      "        [0.1142],\n",
      "        [0.4012],\n",
      "        [0.9316],\n",
      "        [0.0015],\n",
      "        [0.9621],\n",
      "        [0.8614],\n",
      "        [0.0419],\n",
      "        [0.9716],\n",
      "        [0.8525],\n",
      "        [0.7985],\n",
      "        [0.0351],\n",
      "        [0.0314],\n",
      "        [0.1200],\n",
      "        [0.0569],\n",
      "        [0.0183],\n",
      "        [0.1727],\n",
      "        [0.7520],\n",
      "        [0.0113],\n",
      "        [0.0277],\n",
      "        [0.9857],\n",
      "        [0.0846],\n",
      "        [0.1040],\n",
      "        [0.0488],\n",
      "        [0.6366],\n",
      "        [0.0005],\n",
      "        [0.0178],\n",
      "        [0.0746],\n",
      "        [0.1722],\n",
      "        [0.0798],\n",
      "        [0.0011],\n",
      "        [0.0172],\n",
      "        [0.9028],\n",
      "        [0.7612],\n",
      "        [0.0151],\n",
      "        [0.1074],\n",
      "        [0.0372],\n",
      "        [0.8261],\n",
      "        [0.0414],\n",
      "        [0.2226],\n",
      "        [0.0655],\n",
      "        [0.5163],\n",
      "        [0.9450],\n",
      "        [0.9449],\n",
      "        [0.1290],\n",
      "        [0.1026],\n",
      "        [0.9161],\n",
      "        [0.0355],\n",
      "        [0.1875],\n",
      "        [0.1218],\n",
      "        [0.0398],\n",
      "        [0.7417],\n",
      "        [0.0526],\n",
      "        [0.9827],\n",
      "        [0.0809],\n",
      "        [0.9865],\n",
      "        [0.7842],\n",
      "        [0.8802],\n",
      "        [0.8321],\n",
      "        [0.9300],\n",
      "        [0.9233],\n",
      "        [0.0148],\n",
      "        [0.0844],\n",
      "        [0.0671],\n",
      "        [0.0315],\n",
      "        [0.0554],\n",
      "        [0.9068],\n",
      "        [0.0038],\n",
      "        [0.1161],\n",
      "        [0.0076],\n",
      "        [0.5527],\n",
      "        [0.0248],\n",
      "        [0.0001],\n",
      "        [0.8284],\n",
      "        [0.0034],\n",
      "        [0.8623],\n",
      "        [0.1402],\n",
      "        [0.9585],\n",
      "        [0.9239],\n",
      "        [0.3045],\n",
      "        [0.1099],\n",
      "        [0.0611],\n",
      "        [0.9658],\n",
      "        [0.7298],\n",
      "        [0.5576],\n",
      "        [0.8988],\n",
      "        [0.9206],\n",
      "        [0.0022],\n",
      "        [0.0223],\n",
      "        [0.0207],\n",
      "        [0.0181],\n",
      "        [0.9229],\n",
      "        [0.0036],\n",
      "        [0.7737],\n",
      "        [0.8199],\n",
      "        [0.8899],\n",
      "        [0.1565],\n",
      "        [0.9009],\n",
      "        [0.8974],\n",
      "        [0.5018],\n",
      "        [0.0957],\n",
      "        [0.0201],\n",
      "        [0.9448],\n",
      "        [0.0513],\n",
      "        [0.2233],\n",
      "        [0.9511],\n",
      "        [0.0147],\n",
      "        [0.0074],\n",
      "        [0.0284],\n",
      "        [0.0031],\n",
      "        [0.0354],\n",
      "        [0.8355],\n",
      "        [0.0364],\n",
      "        [0.9320],\n",
      "        [0.0146],\n",
      "        [0.9885],\n",
      "        [0.0176],\n",
      "        [0.0325],\n",
      "        [0.6828],\n",
      "        [0.8019],\n",
      "        [0.9251],\n",
      "        [0.2009],\n",
      "        [0.0065],\n",
      "        [0.9800],\n",
      "        [0.7696],\n",
      "        [0.0225],\n",
      "        [0.8252],\n",
      "        [0.0627],\n",
      "        [0.6973],\n",
      "        [0.0429],\n",
      "        [0.0308],\n",
      "        [0.0122],\n",
      "        [0.0181],\n",
      "        [0.0007],\n",
      "        [0.8044],\n",
      "        [0.0324],\n",
      "        [0.0486],\n",
      "        [0.8870],\n",
      "        [0.0161],\n",
      "        [0.0349],\n",
      "        [0.0220],\n",
      "        [0.8053],\n",
      "        [0.0468],\n",
      "        [0.0019],\n",
      "        [0.0984],\n",
      "        [0.4140],\n",
      "        [0.8984],\n",
      "        [0.0665],\n",
      "        [0.0120],\n",
      "        [0.8345],\n",
      "        [0.0076],\n",
      "        [0.0079],\n",
      "        [0.0109],\n",
      "        [0.1630],\n",
      "        [0.2186],\n",
      "        [0.0588],\n",
      "        [0.1849],\n",
      "        [0.1713]], grad_fn=<SigmoidBackward>)\n"
     ]
    }
   ],
   "source": [
    "print (prediction)"
   ]
  },
  {
   "cell_type": "code",
   "execution_count": 13,
   "metadata": {},
   "outputs": [],
   "source": [
    "def accuracy(X, Y):\n",
    "    \"\"\"\n",
    "    This function is used to measure accuracy of the model.\n",
    "    \n",
    "    Arguments:\n",
    "    X -- data set of examples you would like to label\n",
    "    Y -- labels\n",
    "    \n",
    "    Returns:\n",
    "    p -- predictions for the given dataset X\n",
    "    \"\"\"\n",
    "    \n",
    "    prediction = model(X)\n",
    "    np_prediction = np.round(prediction.detach().numpy())\n",
    "    predictions_correct = np.equal(np_prediction, Y.T)\n",
    "    p = np.mean(predictions_correct)\n",
    "        \n",
    "    return p"
   ]
  },
  {
   "cell_type": "code",
   "execution_count": null,
   "metadata": {},
   "outputs": [],
   "source": []
  },
  {
   "cell_type": "code",
   "execution_count": 134,
   "metadata": {},
   "outputs": [
    {
     "name": "stderr",
     "output_type": "stream",
     "text": [
      "C:\\ProgramData\\Anaconda3\\lib\\site-packages\\ipykernel_launcher.py:9: DeprecationWarning: `imread` is deprecated!\n",
      "`imread` is deprecated in SciPy 1.0.0.\n",
      "Use ``matplotlib.pyplot.imread`` instead.\n",
      "  if __name__ == '__main__':\n",
      "C:\\ProgramData\\Anaconda3\\lib\\site-packages\\ipykernel_launcher.py:10: DeprecationWarning: `imresize` is deprecated!\n",
      "`imresize` is deprecated in SciPy 1.0.0, and will be removed in 1.2.0.\n",
      "Use ``skimage.transform.resize`` instead.\n",
      "  # Remove the CWD from sys.path while we load stuff.\n",
      "C:\\ProgramData\\Anaconda3\\lib\\site-packages\\torch\\nn\\functional.py:1006: UserWarning: nn.functional.sigmoid is deprecated. Use torch.sigmoid instead.\n",
      "  warnings.warn(\"nn.functional.sigmoid is deprecated. Use torch.sigmoid instead.\")\n"
     ]
    },
    {
     "name": "stdout",
     "output_type": "stream",
     "text": [
      "The Algo says tensor([[1.]], grad_fn=<SigmoidBackward>)\n"
     ]
    },
    {
     "data": {
      "image/png": "[encoded data removed]",
      "text/plain": [
       "<Figure size 432x288 with 1 Axes>"
      ]
     },
     "metadata": {},
     "output_type": "display_data"
    },
    {
     "data": {
      "text/plain": [
       "<matplotlib.image.AxesImage at 0x9b2f1d0>"
      ]
     },
     "execution_count": 134,
     "metadata": {},
     "output_type": "execute_result"
    },
    {
     "data": {
      "image/png": "[encoded data removed]",
      "text/plain": [
       "<Figure size 432x288 with 1 Axes>"
      ]
     },
     "metadata": {},
     "output_type": "display_data"
    }
   ],
   "source": [
    "#Test Image \n",
    "#fname = \"datasets/cat1.JPG\"  #LR is good\n",
    "#fname = \"datasets/cat3.JPG\"  #LR is bad\n",
    "#fname = \"datasets/cat4.JPG\"  #LR is good\n",
    "fname = \"datasets/cartoon_grump.JPG\"   #LR is bad\n",
    "#fname = \"datasets/puss.JPG\"   #LR is bad\n",
    "#fname = \"datasets/meandog.JPG\"  #LR is good\n",
    "#fname = \"datasets/puppy.JPG\"  #LR is good\n",
    "image = np.array(ndimage.imread(fname, flatten=False))\n",
    "resized_image = scipy.misc.imresize(image, size=(64,64))\n",
    "my_image = resized_image.reshape((1, 64*64*3))\n",
    "pt_my_image = torch.from_numpy(my_image).float()\n",
    "\n",
    "\n",
    "print (\"The Algo says \" + str(model(pt_my_image)))\n",
    "plt.imshow(image)\n",
    "plt.show()\n",
    "plt.imshow(resized_image)"
   ]
  },
  {
   "cell_type": "code",
   "execution_count": 129,
   "metadata": {},
   "outputs": [
    {
     "name": "stdout",
     "output_type": "stream",
     "text": [
      "tensor([[ 3.7092e-03, -2.6056e-02, -1.1001e-02,  ..., -1.6957e-02,\n",
      "         -3.4043e-02,  3.2790e-02]])\n",
      "tensor([0.0039])\n"
     ]
    }
   ],
   "source": [
    "for param in model.parameters():\n",
    "  print(param.data)"
   ]
  },
  {
   "cell_type": "code",
   "execution_count": 132,
   "metadata": {},
   "outputs": [
    {
     "ename": "IndexError",
     "evalue": "index 1 is out of bounds for dimension 0 with size 1",
     "output_type": "error",
     "traceback": [
      "\u001b[1;31m---------------------------------------------------------------------------\u001b[0m",
      "\u001b[1;31mIndexError\u001b[0m                                Traceback (most recent call last)",
      "\u001b[1;32m<ipython-input-132-a4fada3bda04>\u001b[0m in \u001b[0;36m<module>\u001b[1;34m()\u001b[0m\n\u001b[1;32m----> 1\u001b[1;33m \u001b[0mprint\u001b[0m \u001b[1;33m(\u001b[0m\u001b[0mparam\u001b[0m\u001b[1;33m.\u001b[0m\u001b[0mdata\u001b[0m\u001b[1;33m[\u001b[0m\u001b[1;36m1\u001b[0m\u001b[1;33m]\u001b[0m\u001b[1;33m)\u001b[0m\u001b[1;33m\u001b[0m\u001b[0m\n\u001b[0m",
      "\u001b[1;31mIndexError\u001b[0m: index 1 is out of bounds for dimension 0 with size 1"
     ]
    }
   ],
   "source": []
  },
  {
   "cell_type": "code",
   "execution_count": null,
   "metadata": {},
   "outputs": [],
   "source": [
    "NEXT\n",
    "1. need to double check shapes on this one"
   ]
  }
 ],
 "metadata": {
  "kernelspec": {
   "display_name": "Python 3",
   "language": "python",
   "name": "python3"
  },
  "language_info": {
   "codemirror_mode": {
    "name": "ipython",
    "version": 3
   },
   "file_extension": ".py",
   "mimetype": "text/x-python",
   "name": "python",
   "nbconvert_exporter": "python",
   "pygments_lexer": "ipython3",
   "version": "3.6.5"
  }
 },
 "nbformat": 4,
 "nbformat_minor": 2
}
