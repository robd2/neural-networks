{
 "cells": [
  {
   "cell_type": "code",
   "execution_count": 1,
   "metadata": {},
   "outputs": [
    {
     "name": "stderr",
     "output_type": "stream",
     "text": [
      "C:\\ProgramData\\Anaconda3\\lib\\site-packages\\h5py\\__init__.py:36: FutureWarning: Conversion of the second argument of issubdtype from `float` to `np.floating` is deprecated. In future, it will be treated as `np.float64 == np.dtype(float).type`.\n",
      "  from ._conv import register_converters as _register_converters\n",
      "Using TensorFlow backend.\n"
     ]
    }
   ],
   "source": [
    "import tensorflow as tf\n",
    "import numpy as np\n",
    "from tqdm import tqdm\n",
    "\n",
    "\n",
    "import matplotlib.pyplot as plt\n",
    "plt.ion()\n",
    "\n",
    "import scipy\n",
    "from PIL import Image\n",
    "from scipy import ndimage\n",
    "\n",
    "    \n",
    "    \n",
    "from keras.preprocessing.image import ImageDataGenerator, array_to_img, img_to_array, load_img\n",
    "import os, sys\n",
    "from IPython.display import display\n",
    "from IPython.display import Image as _Imgdis\n",
    "\n",
    "\n",
    "# Set random seed\n",
    "np.random.seed(0)\n",
    "\n",
    "import h5py"
   ]
  },
  {
   "cell_type": "code",
   "execution_count": 2,
   "metadata": {},
   "outputs": [
    {
     "name": "stdout",
     "output_type": "stream",
     "text": [
      "Number of training examples: m_train = 209\n",
      "Number of testing examples: m_test = 50\n",
      "Height/Width of each image: num_px = 64\n",
      "Each image is of size: (64, 64, 3)\n",
      "train_set_x shape: (209, 64, 64, 3)\n",
      "train_set_y shape: (1, 209)\n",
      "test_set_x shape: (50, 64, 64, 3)\n",
      "test_set_y shape: (1, 50)\n",
      "[[[17 31 56]\n",
      "  [22 33 59]\n",
      "  [25 35 62]\n",
      "  ...\n",
      "  [ 1 28 57]\n",
      "  [ 1 26 56]\n",
      "  [ 1 22 51]]\n",
      "\n",
      " [[25 36 62]\n",
      "  [28 38 64]\n",
      "  [30 40 67]\n",
      "  ...\n",
      "  [ 1 27 56]\n",
      "  [ 1 25 55]\n",
      "  [ 2 21 51]]\n",
      "\n",
      " [[32 40 67]\n",
      "  [34 42 69]\n",
      "  [35 42 70]\n",
      "  ...\n",
      "  [ 1 25 55]\n",
      "  [ 0 24 54]\n",
      "  [ 1 21 51]]\n",
      "\n",
      " ...\n",
      "\n",
      " [[ 0  0  0]\n",
      "  [ 0  0  0]\n",
      "  [ 0  0  0]\n",
      "  ...\n",
      "  [ 0  0  0]\n",
      "  [ 0  0  0]\n",
      "  [ 0  0  0]]\n",
      "\n",
      " [[ 0  0  0]\n",
      "  [ 0  0  0]\n",
      "  [ 0  0  0]\n",
      "  ...\n",
      "  [ 0  0  0]\n",
      "  [ 0  0  0]\n",
      "  [ 0  0  0]]\n",
      "\n",
      " [[ 0  0  0]\n",
      "  [ 0  0  0]\n",
      "  [ 0  0  0]\n",
      "  ...\n",
      "  [ 0  0  0]\n",
      "  [ 0  0  0]\n",
      "  [ 0  0  0]]]\n",
      "[0 0 1 0 0 0 0 1 0 0 0 1 0 1 1 0 0 0 0 1 0 0 0 0 1 1 0 1 0 1 0 0 0 0 0 0 0\n",
      " 0 1 0 0 1 1 0 0 0 0 1 0 0 1 0 0 0 1 0 1 1 0 1 1 1 0 0 0 0 0 0 1 0 0 1 0 0\n",
      " 0 0 0 0 0 0 0 0 0 1 1 0 0 0 1 0 0 0 1 1 1 0 0 1 0 0 0 0 1 0 1 0 1 1 1 1 1\n",
      " 1 0 0 0 0 0 1 0 0 0 1 0 0 1 0 1 0 1 1 0 0 0 1 1 1 1 1 0 0 0 0 1 0 1 1 1 0\n",
      " 1 1 0 0 0 1 0 0 1 0 0 0 0 0 1 0 1 0 1 0 0 1 1 1 0 0 1 1 0 1 0 1 0 0 0 0 0\n",
      " 1 0 0 1 0 0 0 1 0 0 0 0 1 0 0 1 0 0 0 0 0 0 0 0]\n"
     ]
    }
   ],
   "source": [
    "# Load data\n",
    "train_dataset = h5py.File('train_catvnoncat.h5', \"r\")\n",
    "train_set_x_orig = np.array(train_dataset[\"train_set_x\"][:]) # your train set features\n",
    "train_set_y_orig = np.array(train_dataset[\"train_set_y\"][:]) # your train set labels\n",
    "\n",
    "test_dataset = h5py.File('test_catvnoncat.h5', \"r\")\n",
    "test_set_x_orig = np.array(test_dataset[\"test_set_x\"][:]) # your test set features\n",
    "test_set_y_orig = np.array(test_dataset[\"test_set_y\"][:]) # your test set labels\n",
    "\n",
    "classes = np.array(test_dataset[\"list_classes\"][:]) # the list of classes\n",
    "   \n",
    "train_set_y_orig = train_set_y_orig.reshape((1, train_set_y_orig.shape[0]))\n",
    "test_set_y_orig = test_set_y_orig.reshape((1, test_set_y_orig.shape[0]))\n",
    "\n",
    "m_train = train_set_x_orig.shape[0]\n",
    "m_test = test_set_x_orig.shape[0]\n",
    "num_px = train_set_x_orig.shape[1]\n",
    "\n",
    "print (\"Number of training examples: m_train = \" + str(m_train))\n",
    "print (\"Number of testing examples: m_test = \" + str(m_test))\n",
    "print (\"Height/Width of each image: num_px = \" + str(num_px))\n",
    "print (\"Each image is of size: (\" + str(num_px) + \", \" + str(num_px) + \", 3)\")\n",
    "print (\"train_set_x shape: \" + str(train_set_x_orig.shape))\n",
    "print (\"train_set_y shape: \" + str(train_set_y_orig.shape))\n",
    "print (\"test_set_x shape: \" + str(test_set_x_orig.shape))\n",
    "print (\"test_set_y shape: \" + str(test_set_y_orig.shape))\n",
    "\n",
    "\n",
    "\n",
    "# Look at some data\n",
    "print(train_set_x_orig[0])\n",
    "print(train_set_y_orig[0])"
   ]
  },
  {
   "cell_type": "code",
   "execution_count": 3,
   "metadata": {},
   "outputs": [
    {
     "name": "stdout",
     "output_type": "stream",
     "text": [
      "y = [0], it's a 'non-cat' picture.\n"
     ]
    },
    {
     "data": {
      "image/png": "[encoded data removed]",
      "text/plain": [
       "<Figure size 432x288 with 1 Axes>"
      ]
     },
     "metadata": {},
     "output_type": "display_data"
    }
   ],
   "source": [
    "# Example of a picture\n",
    "index = 20\n",
    "plt.imshow(train_set_x_orig[index])\n",
    "print (\"y = \" + str(train_set_y_orig[:, index]) + \", it's a '\" + classes[np.squeeze(train_set_y_orig[:, index])].decode(\"utf-8\") +  \"' picture.\")"
   ]
  },
  {
   "cell_type": "code",
   "execution_count": 4,
   "metadata": {},
   "outputs": [
    {
     "name": "stdout",
     "output_type": "stream",
     "text": [
      "train_set_x_flatten shape: (12288, 209)\n",
      "train_set_y shape: (1, 209)\n",
      "test_set_x_flatten shape: (12288, 50)\n",
      "test_set_y shape: (1, 50)\n",
      "sanity check after reshaping: [0.06666667 0.12156863 0.21960784 0.08627451 0.12941176]\n"
     ]
    }
   ],
   "source": [
    "# Reshape the training and test examples\n",
    "\n",
    "train_set_x_flatten = train_set_x_orig.reshape(train_set_x_orig.shape[0], -1).T\n",
    "test_set_x_flatten = test_set_x_orig.reshape(test_set_x_orig.shape[0], -1).T\n",
    "\n",
    "#standardize our dataset\n",
    "#see lab 1 notes for more info\n",
    "train_set_x = train_set_x_flatten/255\n",
    "test_set_x = test_set_x_flatten/255\n",
    "\n",
    "print (\"train_set_x_flatten shape: \" + str(train_set_x_flatten.shape))\n",
    "print (\"train_set_y shape: \" + str(train_set_y_orig.shape))\n",
    "print (\"test_set_x_flatten shape: \" + str(test_set_x_flatten.shape))\n",
    "print (\"test_set_y shape: \" + str(test_set_y_orig.shape))\n",
    "print (\"sanity check after reshaping: \" + str(train_set_x[0:5,0]))"
   ]
  },
  {
   "cell_type": "code",
   "execution_count": 5,
   "metadata": {},
   "outputs": [],
   "source": [
    "sess = tf.InteractiveSession()"
   ]
  },
  {
   "cell_type": "code",
   "execution_count": null,
   "metadata": {},
   "outputs": [],
   "source": []
  },
  {
   "cell_type": "code",
   "execution_count": 6,
   "metadata": {},
   "outputs": [
    {
     "name": "stdout",
     "output_type": "stream",
     "text": [
      "WARNING:tensorflow:From C:\\ProgramData\\Anaconda3\\lib\\site-packages\\tensorflow\\python\\util\\tf_should_use.py:118: initialize_all_variables (from tensorflow.python.ops.variables) is deprecated and will be removed after 2017-03-02.\n",
      "Instructions for updating:\n",
      "Use `tf.global_variables_initializer` instead.\n"
     ]
    }
   ],
   "source": [
    "## Input pixels, flattened\n",
    "X = tf.placeholder(\"float\", [12288, None])\n",
    "## Known labels\n",
    "Y = tf.placeholder(\"float\", [1, None])\n",
    "\n",
    "\n",
    "# Variables\n",
    "W1 = tf.get_variable(\"W1\", [20,12288], initializer = tf.contrib.layers.xavier_initializer(seed = 1))\n",
    "b1 = tf.get_variable(\"b1\", [20,1], initializer = tf.zeros_initializer())\n",
    "\n",
    "\n",
    "W2 = tf.get_variable(\"W2\", [7,20], initializer = tf.contrib.layers.xavier_initializer(seed = 1))\n",
    "b2 = tf.get_variable(\"b2\", [7,1], initializer = tf.zeros_initializer())\n",
    "\n",
    "\n",
    "W3 = tf.get_variable(\"W3\", [5,7], initializer = tf.contrib.layers.xavier_initializer(seed = 1))\n",
    "b3 = tf.get_variable(\"b3\", [5,1], initializer = tf.zeros_initializer())\n",
    "\n",
    "\n",
    "W4 = tf.get_variable(\"W4\", [1,5], initializer = tf.contrib.layers.xavier_initializer(seed = 1))\n",
    "b4 = tf.Variable(tf.zeros([1]))\n",
    "\n",
    "# Just initialize\n",
    "sess.run(tf.initialize_all_variables())"
   ]
  },
  {
   "cell_type": "code",
   "execution_count": 7,
   "metadata": {},
   "outputs": [
    {
     "data": {
      "text/plain": [
       "array([[0.],\n",
       "       [0.],\n",
       "       [0.],\n",
       "       [0.],\n",
       "       [0.],\n",
       "       [0.],\n",
       "       [0.],\n",
       "       [0.],\n",
       "       [0.],\n",
       "       [0.],\n",
       "       [0.],\n",
       "       [0.],\n",
       "       [0.],\n",
       "       [0.],\n",
       "       [0.],\n",
       "       [0.],\n",
       "       [0.],\n",
       "       [0.],\n",
       "       [0.],\n",
       "       [0.]], dtype=float32)"
      ]
     },
     "execution_count": 7,
     "metadata": {},
     "output_type": "execute_result"
    }
   ],
   "source": [
    "b1.eval()"
   ]
  },
  {
   "cell_type": "code",
   "execution_count": null,
   "metadata": {},
   "outputs": [],
   "source": [
    "# Just initialize\n",
    "sess.run(tf.initialize_all_variables())"
   ]
  },
  {
   "cell_type": "code",
   "execution_count": 9,
   "metadata": {},
   "outputs": [
    {
     "name": "stdout",
     "output_type": "stream",
     "text": [
      "X is: (12288, ?)\n",
      "Y is: (1, ?)\n",
      "W1 is: (20, 12288)\n",
      "b1 is: (20, 1)\n",
      "Z1 is: (20, ?)\n",
      "A1 is: (20, ?)\n",
      "W2 is: (7, 20)\n",
      "Z2 is: (7, ?)\n"
     ]
    }
   ],
   "source": [
    "# Define model\n",
    "Z1 = tf.add(tf.matmul(W1,X),b1)                                  # Z1 = np.dot(W1, X) + b1\n",
    "A1 = tf.nn.relu(Z1)                                              # A1 = relu(Z1)\n",
    "\n",
    "Z2 = tf.add(tf.matmul(W2,A1),b2)                                 \n",
    "A2 = tf.nn.relu(Z2)                                              \n",
    "\n",
    "Z3 = tf.add(tf.matmul(W3,A2),b3)                                 \n",
    "A3 = tf.nn.relu(Z3)                                              \n",
    "\n",
    "Z4 = tf.add(tf.matmul(W4,A3),b4)                                 \n",
    "A4 = tf.sigmoid(Z4)\n",
    "\n",
    "print (\"X is: \" + str(X.shape))\n",
    "print (\"Y is: \" + str(Y.shape))\n",
    "print (\"W1 is: \" + str(W1.shape))\n",
    "print (\"b1 is: \" + str(b1.shape))\n",
    "print (\"Z1 is: \" + str(Z1.shape))\n",
    "print (\"A1 is: \" + str(A1.shape))\n",
    "\n",
    "print (\"W2 is: \" + str(W2.shape))\n",
    "print (\"Z2 is: \" + str(Z2.shape))"
   ]
  },
  {
   "cell_type": "code",
   "execution_count": 10,
   "metadata": {},
   "outputs": [],
   "source": [
    "# Cost function\n",
    "#cross_entropy = tf.nn.sigmoid_cross_entropy_with_logits(logits = z,  labels = y)\n",
    "cross_entropy = tf.reduce_mean(tf.nn.sigmoid_cross_entropy_with_logits(logits= Z4, labels= Y))\n",
    "#OLD   cross_entropy = tf.nn.sigmoid_cross_entropy_with_logits(logits= z, labels= y)\n",
    "\n",
    "# How we train (GradientDescent)\n",
    "train_step = tf.train.GradientDescentOptimizer(0.02).minimize(cross_entropy)\n"
   ]
  },
  {
   "cell_type": "code",
   "execution_count": 11,
   "metadata": {},
   "outputs": [
    {
     "name": "stdout",
     "output_type": "stream",
     "text": [
      "the shape of dataset is :(12288, 209)\n",
      "the shape of test_dataset is :(12288, 50)\n",
      "the shape of y_train_vector is :(1, 209)\n",
      "the shape of y_test_vector is :(1, 50)\n"
     ]
    }
   ],
   "source": [
    "# map CAT data to my TF template code\n",
    "dataset = train_set_x\n",
    "test_dataset = test_set_x  \n",
    "y_train_vector = train_set_y_orig\n",
    "y_test_vector = test_set_y_orig\n",
    "\n",
    "print (\"the shape of dataset is :\" + str (dataset.shape))\n",
    "print (\"the shape of test_dataset is :\" + str (test_dataset.shape))\n",
    "print (\"the shape of y_train_vector is :\" + str (y_train_vector.shape))\n",
    "print (\"the shape of y_test_vector is :\" + str (y_test_vector.shape))"
   ]
  },
  {
   "cell_type": "code",
   "execution_count": 12,
   "metadata": {},
   "outputs": [
    {
     "name": "stdout",
     "output_type": "stream",
     "text": [
      "Cost after iteration 0: 0.7497527003288269\n",
      "Cost after iteration 100: 0.5430137515068054\n",
      "Cost after iteration 200: 0.5957576632499695\n",
      "Cost after iteration 300: 0.35971400141716003\n",
      "Cost after iteration 400: 0.2462081015110016\n",
      "Cost after iteration 500: 0.19137026369571686\n",
      "Cost after iteration 600: 0.13980607688426971\n",
      "Cost after iteration 700: 0.07953321933746338\n",
      "Cost after iteration 800: 0.6925799250602722\n",
      "Cost after iteration 900: 0.051869843155145645\n",
      "Cost after iteration 1000: 0.4096447229385376\n",
      "Cost after iteration 1100: 0.28225794434547424\n",
      "Cost after iteration 1200: 0.10389939695596695\n",
      "Cost after iteration 1300: 0.3635541498661041\n",
      "Cost after iteration 1400: 0.04191771522164345\n",
      "Cost after iteration 1500: 0.027070434764027596\n",
      "Cost after iteration 1600: 0.022393152117729187\n",
      "Cost after iteration 1700: 0.019231807440519333\n",
      "Cost after iteration 1800: 0.016210203990340233\n",
      "Cost after iteration 1900: 0.014374619349837303\n",
      "Cost after iteration 2000: 0.013180341571569443\n",
      "Cost after iteration 2100: 0.012016048654913902\n",
      "Cost after iteration 2200: 0.011068632826209068\n",
      "Cost after iteration 2300: 0.010279553011059761\n"
     ]
    }
   ],
   "source": [
    "# Actually train\n",
    "epochs = 2400\n",
    "\n",
    "print_cost = True\n",
    "costs = []\n",
    "\n",
    "# Actual Prediction\n",
    "prediction = tf.round(tf.sigmoid(Z2))\n",
    "predictions_correct = tf.cast(tf.equal(prediction, Y), tf.float32)\n",
    "accuracy = tf.reduce_mean(predictions_correct)\n",
    "\n",
    "train_acc = []\n",
    "test_acc = []\n",
    "\n",
    "\n",
    "#for i in tqdm(range(epochs)):\n",
    "for i in range(0, epochs):\n",
    "    train_step.run(feed_dict={X: dataset, Y: y_train_vector})\n",
    "    \n",
    "    temp_cost = sess.run(cross_entropy, feed_dict={X: dataset, Y: y_train_vector})\n",
    "    costs.append(temp_cost)\n",
    "    \n",
    "    temp_acc_train = sess.run(accuracy, feed_dict={X: dataset, Y: y_train_vector})\n",
    "    train_acc.append(temp_acc_train)\n",
    "    \n",
    "    temp_acc_test = sess.run(accuracy, feed_dict={X: test_dataset, Y: y_test_vector})\n",
    "    test_acc.append(temp_acc_test)\n",
    "    \n",
    "    if i % 100 == 0:\n",
    "            print(\"Cost after iteration {}: {}\".format(i, np.squeeze(temp_cost)))\n",
    "  "
   ]
  },
  {
   "cell_type": "code",
   "execution_count": null,
   "metadata": {},
   "outputs": [],
   "source": [
    "# Plot loss over time\n",
    "plt.plot(costs, 'k-')\n",
    "plt.title('Cross Entropy Loss per Generation')\n",
    "plt.xlabel('Epoch')\n",
    "plt.ylabel('Cross Entropy Loss')\n",
    "plt.show()\n",
    "\n",
    "# Plot train and test accuracy\n",
    "plt.plot(train_acc, 'k-', label='Train Set Accuracy')\n",
    "plt.plot(test_acc, 'r--', label='Test Set Accuracy')\n",
    "plt.title('Train and Test Accuracy')\n",
    "plt.xlabel('Epoch')\n",
    "plt.ylabel('Accuracy')\n",
    "plt.legend(loc='lower right')\n",
    "plt.show()"
   ]
  },
  {
   "cell_type": "code",
   "execution_count": null,
   "metadata": {},
   "outputs": [],
   "source": [
    "print (sess.run(accuracy, feed_dict={X: dataset, Y: y_train_vector}))\n",
    "print (sess.run(accuracy, feed_dict={X: test_dataset, Y: y_test_vector}))"
   ]
  },
  {
   "cell_type": "code",
   "execution_count": null,
   "metadata": {},
   "outputs": [],
   "source": [
    "W2.eval()"
   ]
  },
  {
   "cell_type": "code",
   "execution_count": null,
   "metadata": {},
   "outputs": [],
   "source": [
    "print (costs)"
   ]
  },
  {
   "cell_type": "code",
   "execution_count": null,
   "metadata": {},
   "outputs": [],
   "source": []
  },
  {
   "cell_type": "code",
   "execution_count": null,
   "metadata": {},
   "outputs": [],
   "source": [
    "#Test Image \n",
    "#fname = \"cat1.JPG\"  #LR is good\n",
    "#fname = \"cat3.JPG\"  #LR is bad\n",
    "#fname = \"cat4.JPG\"  #LR is good\n",
    "fname = \"cartoon_grump.JPG\"   #LR is bad\n",
    "#fname = \"puss.JPG\"   #LR is bad\n",
    "#fname = \"meandog.JPG\"  #LR is good\n",
    "image = np.array(ndimage.imread(fname, flatten=False))\n",
    "resized_image = scipy.misc.imresize(image, size=(64,64))\n",
    "my_image = resized_image.reshape((1, 64*64*3)).T\n",
    "\n",
    "\n",
    "print (\"The Algo says \" + str(A4.eval({X:my_image})))\n",
    "print (Z4.eval({X:my_image}))\n",
    "plt.imshow(image)\n",
    "plt.show()\n",
    "plt.imshow(resized_image)\n",
    "\n",
    "\n",
    "#print (W)"
   ]
  },
  {
   "cell_type": "code",
   "execution_count": null,
   "metadata": {},
   "outputs": [],
   "source": []
  }
 ],
 "metadata": {
  "kernelspec": {
   "display_name": "Python 3",
   "language": "python",
   "name": "python3"
  },
  "language_info": {
   "codemirror_mode": {
    "name": "ipython",
    "version": 3
   },
   "file_extension": ".py",
   "mimetype": "text/x-python",
   "name": "python",
   "nbconvert_exporter": "python",
   "pygments_lexer": "ipython3",
   "version": "3.6.5"
  }
 },
 "nbformat": 4,
 "nbformat_minor": 2
}
