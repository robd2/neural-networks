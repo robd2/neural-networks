{
 "cells": [
  {
   "cell_type": "code",
   "execution_count": 1,
   "metadata": {},
   "outputs": [
    {
     "name": "stderr",
     "output_type": "stream",
     "text": [
      "C:\\ProgramData\\Anaconda3\\lib\\site-packages\\h5py\\__init__.py:36: FutureWarning: Conversion of the second argument of issubdtype from `float` to `np.floating` is deprecated. In future, it will be treated as `np.float64 == np.dtype(float).type`.\n",
      "  from ._conv import register_converters as _register_converters\n"
     ]
    }
   ],
   "source": [
    "import tensorflow as tf\n",
    "import numpy as np\n",
    "import math"
   ]
  },
  {
   "cell_type": "code",
   "execution_count": 2,
   "metadata": {},
   "outputs": [],
   "source": [
    "sess = tf.InteractiveSession()"
   ]
  },
  {
   "cell_type": "code",
   "execution_count": 5,
   "metadata": {},
   "outputs": [],
   "source": [
    "# Some simple constants\n",
    "x1 = tf.Variable(tf.truncated_normal([5],\n",
    "                 mean=3, stddev=1./math.sqrt(5)))\n",
    "x2 = tf.Variable(tf.truncated_normal([5],\n",
    "                 mean=-1, stddev=1./math.sqrt(5)))\n",
    "x3 = tf.Variable(tf.truncated_normal([5],\n",
    "                 mean=0, stddev=1./math.sqrt(5)))\n",
    "\n",
    "sess.run(tf.initialize_all_variables())"
   ]
  },
  {
   "cell_type": "code",
   "execution_count": 6,
   "metadata": {},
   "outputs": [
    {
     "name": "stdout",
     "output_type": "stream",
     "text": [
      "[-1.4101932  -0.68189466 -0.70575464 -1.0552961  -0.9918436 ]\n",
      "[1.9886448  0.46498033 0.4980896  1.1136497  0.9837537 ]\n"
     ]
    }
   ],
   "source": [
    "#Some various transofmaion functions\n",
    "# Squaring makes large values extreme (but positive)\n",
    "# Be careful if you have negative values\n",
    "sqx2 = x2 * x2\n",
    "print(x2.eval())\n",
    "print(sqx2.eval())"
   ]
  },
  {
   "cell_type": "code",
   "execution_count": 7,
   "metadata": {},
   "outputs": [
    {
     "name": "stdout",
     "output_type": "stream",
     "text": [
      "[2.7462828 2.9636228 3.2085812 3.447855  2.8924775]\n",
      "[1.0102483 1.0864124 1.1658288 1.2377523 1.0621134]\n"
     ]
    }
   ],
   "source": [
    "# Logarithm makes small values more pronounced (and negative)\n",
    "# Be careful that your algorithm can handle negative numbers\n",
    "logx1 = tf.log(x1)\n",
    "print(x1.eval())\n",
    "print(logx1.eval())"
   ]
  },
  {
   "cell_type": "code",
   "execution_count": 8,
   "metadata": {},
   "outputs": [
    {
     "name": "stdout",
     "output_type": "stream",
     "text": [
      "[-0.577517   -0.21289216  0.05287118  0.02893063 -0.2722765 ]\n",
      "[0.35950413 0.44697705 0.51321477 0.5072322  0.43234828]\n"
     ]
    }
   ],
   "source": [
    "# \"sigmoid\" is a common transformation in deep learning\n",
    "# Extreme values get flattened to +1 or 0\n",
    "# Inputs closer to zero stay similar, sigmoid(0) = 0.5\n",
    "sigx3 = tf.sigmoid(x3)\n",
    "print(x3.eval())\n",
    "print(sigx3.eval())"
   ]
  },
  {
   "cell_type": "code",
   "execution_count": 20,
   "metadata": {},
   "outputs": [
    {
     "name": "stdout",
     "output_type": "stream",
     "text": [
      "[0.35060728 0.24993423 0.284758   0.37045273 0.28387672]\n",
      "[-0.21620882 -0.2421993  -0.2644311  -0.12517658 -0.17034416]\n",
      "[0.53354913 0.5019337  0.50508153 0.56101346 0.5283527 ]\n"
     ]
    }
   ],
   "source": [
    "# We linearly combine multiple inputs, then transform\n",
    "w1 = tf.constant(0.1)\n",
    "w2 = tf.constant(0.2)\n",
    "sess.run(tf.initialize_all_variables())\n",
    "n1 = tf.sigmoid(w1*x1 + w2*x2)\n",
    "print((w1*x1).eval())\n",
    "print((w2*x2).eval())\n",
    "print(n1.eval())"
   ]
  },
  {
   "cell_type": "code",
   "execution_count": null,
   "metadata": {},
   "outputs": [],
   "source": []
  }
 ],
 "metadata": {
  "kernelspec": {
   "display_name": "Python 3",
   "language": "python",
   "name": "python3"
  },
  "language_info": {
   "codemirror_mode": {
    "name": "ipython",
    "version": 3
   },
   "file_extension": ".py",
   "mimetype": "text/x-python",
   "name": "python",
   "nbconvert_exporter": "python",
   "pygments_lexer": "ipython3",
   "version": "3.6.5"
  }
 },
 "nbformat": 4,
 "nbformat_minor": 2
}
