{
 "cells": [
  {
   "cell_type": "code",
   "execution_count": 1,
   "metadata": {},
   "outputs": [
    {
     "name": "stderr",
     "output_type": "stream",
     "text": [
      "C:\\ProgramData\\Anaconda3\\lib\\site-packages\\h5py\\__init__.py:36: FutureWarning: Conversion of the second argument of issubdtype from `float` to `np.floating` is deprecated. In future, it will be treated as `np.float64 == np.dtype(float).type`.\n",
      "  from ._conv import register_converters as _register_converters\n"
     ]
    }
   ],
   "source": [
    "import tensorflow as tf\n",
    "import math\n",
    "import numpy as np\n",
    "\n",
    "sess = tf.InteractiveSession()"
   ]
  },
  {
   "cell_type": "code",
   "execution_count": 2,
   "metadata": {},
   "outputs": [],
   "source": [
    "# Make some fake data, 1 data points\n",
    "image = np.random.randint(10,size=[1,10,10]) + np.eye(10)*10\n",
    "\n",
    "# TensorFlow placeholder\n",
    "# None is for batch processing \n",
    "# (-1 keeps same size)\n",
    "# 10x10 is the shape\n",
    "# 1 is the number of \"channels\" \n",
    "# (like RGB colors or gray)\n",
    "x = tf.placeholder(\"float\", [None, 10, 10])\n",
    "x_im = tf.reshape(x, [-1,10,10,1])"
   ]
  },
  {
   "cell_type": "code",
   "execution_count": 4,
   "metadata": {},
   "outputs": [],
   "source": [
    "### Convolutional Layer\n",
    "\n",
    "# Window size to use, 3x3 here\n",
    "winx = 3\n",
    "winy = 3\n",
    "\n",
    "# How many features to compute on the window\n",
    "num_filters = 2\n",
    "\n",
    "# Weight shape should match window size\n",
    "# The '1' represents the number of \n",
    "# input \"channels\" (colors)\n",
    "W1 = tf.Variable(tf.truncated_normal(\n",
    "    [winx, winy,1, num_filters],\n",
    "    stddev=1./math.sqrt(winx*winy)))\n",
    "b1 = tf.Variable(tf.constant(\n",
    "    0.1,shape=[num_filters]))\n",
    "\n",
    "# 3x3 convolution, Pad with zeros on edges\n",
    "# Strides is how to step, here 1 pixel at a time\n",
    "xw = tf.nn.conv2d(x_im, W1,\n",
    "        strides=[1, 1, 1, 1],\n",
    "        padding='SAME')\n",
    "h1 = tf.nn.relu(xw + b1)"
   ]
  },
  {
   "cell_type": "code",
   "execution_count": 5,
   "metadata": {},
   "outputs": [
    {
     "name": "stdout",
     "output_type": "stream",
     "text": [
      "WARNING:tensorflow:From C:\\ProgramData\\Anaconda3\\lib\\site-packages\\tensorflow\\python\\util\\tf_should_use.py:118: initialize_all_variables (from tensorflow.python.ops.variables) is deprecated and will be removed after 2017-03-02.\n",
      "Instructions for updating:\n",
      "Use `tf.global_variables_initializer` instead.\n"
     ]
    }
   ],
   "source": [
    "# Remember to initialize!\n",
    "sess.run(tf.initialize_all_variables())"
   ]
  },
  {
   "cell_type": "code",
   "execution_count": 7,
   "metadata": {},
   "outputs": [
    {
     "data": {
      "text/plain": [
       "<matplotlib.colorbar.Colorbar at 0xedb9438>"
      ]
     },
     "execution_count": 7,
     "metadata": {},
     "output_type": "execute_result"
    },
    {
     "data": {
      "image/png": "[encoded data removed]",
      "text/plain": [
       "<Figure size 288x288 with 2 Axes>"
      ]
     },
     "metadata": {},
     "output_type": "display_data"
    },
    {
     "data": {
      "image/png": "[encoded data removed]",
      "text/plain": [
       "<Figure size 288x288 with 2 Axes>"
      ]
     },
     "metadata": {},
     "output_type": "display_data"
    },
    {
     "data": {
      "image/png": "[encoded data removed]",
      "text/plain": [
       "<Figure size 288x288 with 2 Axes>"
      ]
     },
     "metadata": {},
     "output_type": "display_data"
    }
   ],
   "source": [
    "# Peek inside\n",
    "H = h1.eval(feed_dict = {x: image})\n",
    "\n",
    "# Let's take a look\n",
    "import matplotlib.pyplot as plt\n",
    "plt.ion()\n",
    "\n",
    "# Original\n",
    "plt.matshow(image[0])\n",
    "plt.colorbar()\n",
    "\n",
    "# Conv channel 1\n",
    "plt.matshow(H[0,:,:,0])\n",
    "plt.colorbar()\n",
    "\n",
    "# Conv channel 2\n",
    "plt.matshow(H[0,:,:,1])\n",
    "plt.colorbar()"
   ]
  },
  {
   "cell_type": "code",
   "execution_count": 8,
   "metadata": {},
   "outputs": [],
   "source": [
    "### Pooling Layer\n",
    "# \"Max\" pooling keeps best of 2x2 square\n",
    "# in h1 output\n",
    "# ksize defines size of this block\n",
    "# \"VALID\" padding means incomplete squares are\n",
    "# not used\n",
    "# Stride of 2x2 means no overlap of 2x2 blocks\n",
    "p1 = tf.nn.max_pool(h1, ksize=[1, 2, 2, 1],\n",
    "          strides=[1, 2, 2, 1], padding='VALID')"
   ]
  },
  {
   "cell_type": "code",
   "execution_count": 9,
   "metadata": {},
   "outputs": [],
   "source": [
    "# We automatically determine the size\n",
    "p1_size = np.product([s.value for s in p1.get_shape()[1:]])\n",
    "\n",
    "# Need to flatten convolutional output for use\n",
    "# in a dense layer\n",
    "# -1 chooses appropriate shape to keep overall\n",
    "# size the same\n",
    "p1f = tf.reshape(p1, [-1, p1_size ])"
   ]
  },
  {
   "cell_type": "code",
   "execution_count": 18,
   "metadata": {},
   "outputs": [
    {
     "data": {
      "text/plain": [
       "<matplotlib.colorbar.Colorbar at 0xf060cf8>"
      ]
     },
     "execution_count": 18,
     "metadata": {},
     "output_type": "execute_result"
    },
    {
     "data": {
      "image/png": "[encoded data removed]",
      "text/plain": [
       "<Figure size 288x288 with 2 Axes>"
      ]
     },
     "metadata": {},
     "output_type": "display_data"
    }
   ],
   "source": [
    "# Pooling Layer before flattening\n",
    "# Note how it's only 5x5, because we took the\n",
    "# best(max) of every 2x2 window\n",
    "P = p1.eval(feed_dict = {x: image})\n",
    "plt.matshow(P[0,:,:,0])\n",
    "plt.colorbar()"
   ]
  },
  {
   "cell_type": "code",
   "execution_count": 19,
   "metadata": {},
   "outputs": [
    {
     "data": {
      "text/plain": [
       "<matplotlib.colorbar.Colorbar at 0xec3ca90>"
      ]
     },
     "execution_count": 19,
     "metadata": {},
     "output_type": "execute_result"
    },
    {
     "data": {
      "image/png": "[encoded data removed]",
      "text/plain": [
       "<Figure size 288x288 with 2 Axes>"
      ]
     },
     "metadata": {},
     "output_type": "display_data"
    }
   ],
   "source": [
    "#test of tf.nn.avg_pool\n",
    "p2 = tf.nn.avg_pool(h1, ksize=[1, 2, 2, 1],\n",
    "          strides=[1, 2, 2, 1], padding='VALID')\n",
    "\n",
    "Pa = p2.eval(feed_dict = {x: image})\n",
    "plt.matshow(Pa[0,:,:,0])\n",
    "plt.colorbar()"
   ]
  },
  {
   "cell_type": "code",
   "execution_count": null,
   "metadata": {},
   "outputs": [],
   "source": []
  }
 ],
 "metadata": {
  "kernelspec": {
   "display_name": "Python 3",
   "language": "python",
   "name": "python3"
  },
  "language_info": {
   "codemirror_mode": {
    "name": "ipython",
    "version": 3
   },
   "file_extension": ".py",
   "mimetype": "text/x-python",
   "name": "python",
   "nbconvert_exporter": "python",
   "pygments_lexer": "ipython3",
   "version": "3.6.5"
  }
 },
 "nbformat": 4,
 "nbformat_minor": 2
}
